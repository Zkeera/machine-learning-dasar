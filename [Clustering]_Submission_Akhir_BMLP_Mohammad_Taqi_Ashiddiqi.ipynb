{
  "nbformat": 4,
  "nbformat_minor": 0,
  "metadata": {
    "colab": {
      "provenance": [],
      "include_colab_link": true
    },
    "kernelspec": {
      "name": "python3",
      "display_name": "Python 3"
    },
    "language_info": {
      "name": "python"
    }
  },
  "cells": [
    {
      "cell_type": "markdown",
      "metadata": {
        "id": "view-in-github",
        "colab_type": "text"
      },
      "source": [
        "<a href=\"https://colab.research.google.com/github/Zkeera/machine-learning-dasar/blob/main/%5BClustering%5D_Submission_Akhir_BMLP_Mohammad_Taqi_Ashiddiqi.ipynb\" target=\"_parent\"><img src=\"https://colab.research.google.com/assets/colab-badge.svg\" alt=\"Open In Colab\"/></a>"
      ]
    },
    {
      "cell_type": "markdown",
      "source": [
        "# **Penting**\n",
        "- Pastikan Anda melakukan Run All sebelum mengirimkan submission untuk memastikan seluruh cell berjalan dengan baik.\n",
        "- Pastikan Anda menggunakan variabel df dari awal sampai akhir dan tidak diperbolehkan mengganti nama variabel tersebut.\n",
        "- Hapus simbol pagar (#) pada kode yang bertipe komentar jika Anda menerapkan kriteria tambahan\n",
        "- Biarkan simbol pagar (#) jika Anda tidak menerapkan kriteria tambahan"
      ],
      "metadata": {
        "id": "0tvAKGat01Sd"
      }
    },
    {
      "cell_type": "markdown",
      "source": [
        "# **INFORMASI DATASET**\n",
        "## Latar Belakang\n",
        "\n",
        "Dalam dunia bisnis ritel, pemahaman terhadap perilaku pelanggan menjadi salah satu faktor krusial dalam menentukan strategi pemasaran, peningkatan layanan, serta pengambilan keputusan berbasis data. Salah satu pendekatan yang umum digunakan untuk memahami perilaku pelanggan adalah melalui segmentasi, yaitu proses pengelompokan pelanggan ke dalam beberapa segmen atau kelompok berdasarkan karakteristik tertentu.\n",
        "\n",
        "Dengan menerapkan metode **unsupervised learning**, khususnya **clustering**, proyek ini bertujuan untuk membentuk segmentasi pelanggan yang merepresentasikan pola-pola pembelian yang serupa. Hasil segmentasi ini diharapkan dapat memberikan insight yang bernilai bagi pihak manajemen, khususnya dalam menyusun strategi promosi yang lebih tepat sasaran, mengembangkan program loyalitas, serta mengoptimalkan layanan pelanggan."
      ],
      "metadata": {
        "id": "sKi5D9qVVJvY"
      }
    },
    {
      "cell_type": "markdown",
      "source": [
        "# **1. Import Library**\n",
        "Pada tahap ini, Anda perlu mengimpor beberapa pustaka (library) Python yang dibutuhkan untuk analisis data dan pembangunan model machine learning. Semua library yang dibutuhkan harus **import** di **cell** ini, jika ada library yang dijalankan di cell lain maka **submission langsung ditolak**"
      ],
      "metadata": {
        "id": "fKADPWcFKlj3"
      }
    },
    {
      "cell_type": "code",
      "source": [
        "import pandas as pd\n",
        "from sklearn.cluster import KMeans\n",
        "from sklearn.preprocessing import MinMaxScaler\n",
        "from sklearn.preprocessing import LabelEncoder\n",
        "import matplotlib.pyplot as plt\n",
        "from yellowbrick.cluster import KElbowVisualizer\n",
        "import joblib"
      ],
      "metadata": {
        "id": "BlmvjLY9M4Yj"
      },
      "execution_count": 1,
      "outputs": []
    },
    {
      "cell_type": "markdown",
      "source": [
        "# **2. Memuat Dataset**\n",
        "Pada tahap ini, Anda perlu memuat dataset ke dalam notebook lalu mengecek informasi dataset sebelum nantinya dilakukan pembersihan. Hal-hal yang perlu dilakukan pada tahapan ini yaitu:\n",
        "1. **Memahami Struktur Data**\n",
        "   - Dataset harus mengambil referensi wajib digunakan (bisa dilihat [Disini](https://drive.google.com/drive/folders/1Zs7VmPZ-jNwsRlMKH65Ea-LApSwx6lKx?usp=drive_link))\n",
        "   - Melakukan loading dataset ke dalam notebook dan menampilkan 5 baris pertama dengan function `head`.\n",
        "   - Tinjau jumlah baris kolom dan jenis data dalam dataset dengan function `info`.  \n",
        "   - Menampilkan statistik deskriptif dataset dengan menjalankan `describe`.\n",
        "   - Pastikan **setiap function tersebut** memiliki **output pada setiap cell** code. Jika tidak **submission langsung ditolak**\n",
        "   "
      ],
      "metadata": {
        "id": "f3YIEnAFKrKL"
      }
    },
    {
      "cell_type": "code",
      "source": [
        "url='https://raw.githubusercontent.com/Zkeera/machine-learning-dasar/refs/heads/main/dataset/bank_transactions_data_edited.csv'\n",
        "df = pd.read_csv(url)"
      ],
      "metadata": {
        "id": "QsBG2tDA3-zA"
      },
      "execution_count": 2,
      "outputs": []
    },
    {
      "cell_type": "code",
      "source": [
        "df.head()"
      ],
      "metadata": {
        "id": "GHCGNTyrM5fS",
        "colab": {
          "base_uri": "https://localhost:8080/",
          "height": 313
        },
        "outputId": "7f5ad761-70e0-4e45-91b1-bbf2d218ec2d"
      },
      "execution_count": 3,
      "outputs": [
        {
          "output_type": "execute_result",
          "data": {
            "text/plain": [
              "  TransactionID AccountID  TransactionAmount      TransactionDate  \\\n",
              "0      TX000001   AC00128              14.09  2023-04-11 16:29:14   \n",
              "1      TX000002   AC00455             376.24  2023-06-27 16:44:19   \n",
              "2      TX000003   AC00019             126.29  2023-07-10 18:16:08   \n",
              "3      TX000004   AC00070             184.50  2023-05-05 16:32:11   \n",
              "4      TX000005   AC00411              13.45  2023-10-16 17:51:24   \n",
              "\n",
              "  TransactionType   Location DeviceID      IP Address MerchantID Channel  \\\n",
              "0           Debit  San Diego  D000380  162.198.218.92       M015     ATM   \n",
              "1           Debit    Houston  D000051     13.149.61.4       M052     ATM   \n",
              "2           Debit       Mesa  D000235  215.97.143.157       M009  Online   \n",
              "3           Debit    Raleigh  D000187  200.13.225.150       M002  Online   \n",
              "4          Credit    Atlanta  D000308    65.164.3.100       M091  Online   \n",
              "\n",
              "   CustomerAge CustomerOccupation  TransactionDuration  LoginAttempts  \\\n",
              "0         70.0             Doctor                 81.0            1.0   \n",
              "1         68.0             Doctor                141.0            1.0   \n",
              "2         19.0            Student                 56.0            1.0   \n",
              "3         26.0            Student                 25.0            1.0   \n",
              "4          NaN            Student                198.0            1.0   \n",
              "\n",
              "   AccountBalance PreviousTransactionDate  \n",
              "0         5112.21     2024-11-04 08:08:08  \n",
              "1        13758.91     2024-11-04 08:09:35  \n",
              "2         1122.35     2024-11-04 08:07:04  \n",
              "3         8569.06     2024-11-04 08:09:06  \n",
              "4         7429.40     2024-11-04 08:06:39  "
            ],
            "text/html": [
              "\n",
              "  <div id=\"df-fc012d6d-c5b8-4993-8c2e-f22586e76ead\" class=\"colab-df-container\">\n",
              "    <div>\n",
              "<style scoped>\n",
              "    .dataframe tbody tr th:only-of-type {\n",
              "        vertical-align: middle;\n",
              "    }\n",
              "\n",
              "    .dataframe tbody tr th {\n",
              "        vertical-align: top;\n",
              "    }\n",
              "\n",
              "    .dataframe thead th {\n",
              "        text-align: right;\n",
              "    }\n",
              "</style>\n",
              "<table border=\"1\" class=\"dataframe\">\n",
              "  <thead>\n",
              "    <tr style=\"text-align: right;\">\n",
              "      <th></th>\n",
              "      <th>TransactionID</th>\n",
              "      <th>AccountID</th>\n",
              "      <th>TransactionAmount</th>\n",
              "      <th>TransactionDate</th>\n",
              "      <th>TransactionType</th>\n",
              "      <th>Location</th>\n",
              "      <th>DeviceID</th>\n",
              "      <th>IP Address</th>\n",
              "      <th>MerchantID</th>\n",
              "      <th>Channel</th>\n",
              "      <th>CustomerAge</th>\n",
              "      <th>CustomerOccupation</th>\n",
              "      <th>TransactionDuration</th>\n",
              "      <th>LoginAttempts</th>\n",
              "      <th>AccountBalance</th>\n",
              "      <th>PreviousTransactionDate</th>\n",
              "    </tr>\n",
              "  </thead>\n",
              "  <tbody>\n",
              "    <tr>\n",
              "      <th>0</th>\n",
              "      <td>TX000001</td>\n",
              "      <td>AC00128</td>\n",
              "      <td>14.09</td>\n",
              "      <td>2023-04-11 16:29:14</td>\n",
              "      <td>Debit</td>\n",
              "      <td>San Diego</td>\n",
              "      <td>D000380</td>\n",
              "      <td>162.198.218.92</td>\n",
              "      <td>M015</td>\n",
              "      <td>ATM</td>\n",
              "      <td>70.0</td>\n",
              "      <td>Doctor</td>\n",
              "      <td>81.0</td>\n",
              "      <td>1.0</td>\n",
              "      <td>5112.21</td>\n",
              "      <td>2024-11-04 08:08:08</td>\n",
              "    </tr>\n",
              "    <tr>\n",
              "      <th>1</th>\n",
              "      <td>TX000002</td>\n",
              "      <td>AC00455</td>\n",
              "      <td>376.24</td>\n",
              "      <td>2023-06-27 16:44:19</td>\n",
              "      <td>Debit</td>\n",
              "      <td>Houston</td>\n",
              "      <td>D000051</td>\n",
              "      <td>13.149.61.4</td>\n",
              "      <td>M052</td>\n",
              "      <td>ATM</td>\n",
              "      <td>68.0</td>\n",
              "      <td>Doctor</td>\n",
              "      <td>141.0</td>\n",
              "      <td>1.0</td>\n",
              "      <td>13758.91</td>\n",
              "      <td>2024-11-04 08:09:35</td>\n",
              "    </tr>\n",
              "    <tr>\n",
              "      <th>2</th>\n",
              "      <td>TX000003</td>\n",
              "      <td>AC00019</td>\n",
              "      <td>126.29</td>\n",
              "      <td>2023-07-10 18:16:08</td>\n",
              "      <td>Debit</td>\n",
              "      <td>Mesa</td>\n",
              "      <td>D000235</td>\n",
              "      <td>215.97.143.157</td>\n",
              "      <td>M009</td>\n",
              "      <td>Online</td>\n",
              "      <td>19.0</td>\n",
              "      <td>Student</td>\n",
              "      <td>56.0</td>\n",
              "      <td>1.0</td>\n",
              "      <td>1122.35</td>\n",
              "      <td>2024-11-04 08:07:04</td>\n",
              "    </tr>\n",
              "    <tr>\n",
              "      <th>3</th>\n",
              "      <td>TX000004</td>\n",
              "      <td>AC00070</td>\n",
              "      <td>184.50</td>\n",
              "      <td>2023-05-05 16:32:11</td>\n",
              "      <td>Debit</td>\n",
              "      <td>Raleigh</td>\n",
              "      <td>D000187</td>\n",
              "      <td>200.13.225.150</td>\n",
              "      <td>M002</td>\n",
              "      <td>Online</td>\n",
              "      <td>26.0</td>\n",
              "      <td>Student</td>\n",
              "      <td>25.0</td>\n",
              "      <td>1.0</td>\n",
              "      <td>8569.06</td>\n",
              "      <td>2024-11-04 08:09:06</td>\n",
              "    </tr>\n",
              "    <tr>\n",
              "      <th>4</th>\n",
              "      <td>TX000005</td>\n",
              "      <td>AC00411</td>\n",
              "      <td>13.45</td>\n",
              "      <td>2023-10-16 17:51:24</td>\n",
              "      <td>Credit</td>\n",
              "      <td>Atlanta</td>\n",
              "      <td>D000308</td>\n",
              "      <td>65.164.3.100</td>\n",
              "      <td>M091</td>\n",
              "      <td>Online</td>\n",
              "      <td>NaN</td>\n",
              "      <td>Student</td>\n",
              "      <td>198.0</td>\n",
              "      <td>1.0</td>\n",
              "      <td>7429.40</td>\n",
              "      <td>2024-11-04 08:06:39</td>\n",
              "    </tr>\n",
              "  </tbody>\n",
              "</table>\n",
              "</div>\n",
              "    <div class=\"colab-df-buttons\">\n",
              "\n",
              "  <div class=\"colab-df-container\">\n",
              "    <button class=\"colab-df-convert\" onclick=\"convertToInteractive('df-fc012d6d-c5b8-4993-8c2e-f22586e76ead')\"\n",
              "            title=\"Convert this dataframe to an interactive table.\"\n",
              "            style=\"display:none;\">\n",
              "\n",
              "  <svg xmlns=\"http://www.w3.org/2000/svg\" height=\"24px\" viewBox=\"0 -960 960 960\">\n",
              "    <path d=\"M120-120v-720h720v720H120Zm60-500h600v-160H180v160Zm220 220h160v-160H400v160Zm0 220h160v-160H400v160ZM180-400h160v-160H180v160Zm440 0h160v-160H620v160ZM180-180h160v-160H180v160Zm440 0h160v-160H620v160Z\"/>\n",
              "  </svg>\n",
              "    </button>\n",
              "\n",
              "  <style>\n",
              "    .colab-df-container {\n",
              "      display:flex;\n",
              "      gap: 12px;\n",
              "    }\n",
              "\n",
              "    .colab-df-convert {\n",
              "      background-color: #E8F0FE;\n",
              "      border: none;\n",
              "      border-radius: 50%;\n",
              "      cursor: pointer;\n",
              "      display: none;\n",
              "      fill: #1967D2;\n",
              "      height: 32px;\n",
              "      padding: 0 0 0 0;\n",
              "      width: 32px;\n",
              "    }\n",
              "\n",
              "    .colab-df-convert:hover {\n",
              "      background-color: #E2EBFA;\n",
              "      box-shadow: 0px 1px 2px rgba(60, 64, 67, 0.3), 0px 1px 3px 1px rgba(60, 64, 67, 0.15);\n",
              "      fill: #174EA6;\n",
              "    }\n",
              "\n",
              "    .colab-df-buttons div {\n",
              "      margin-bottom: 4px;\n",
              "    }\n",
              "\n",
              "    [theme=dark] .colab-df-convert {\n",
              "      background-color: #3B4455;\n",
              "      fill: #D2E3FC;\n",
              "    }\n",
              "\n",
              "    [theme=dark] .colab-df-convert:hover {\n",
              "      background-color: #434B5C;\n",
              "      box-shadow: 0px 1px 3px 1px rgba(0, 0, 0, 0.15);\n",
              "      filter: drop-shadow(0px 1px 2px rgba(0, 0, 0, 0.3));\n",
              "      fill: #FFFFFF;\n",
              "    }\n",
              "  </style>\n",
              "\n",
              "    <script>\n",
              "      const buttonEl =\n",
              "        document.querySelector('#df-fc012d6d-c5b8-4993-8c2e-f22586e76ead button.colab-df-convert');\n",
              "      buttonEl.style.display =\n",
              "        google.colab.kernel.accessAllowed ? 'block' : 'none';\n",
              "\n",
              "      async function convertToInteractive(key) {\n",
              "        const element = document.querySelector('#df-fc012d6d-c5b8-4993-8c2e-f22586e76ead');\n",
              "        const dataTable =\n",
              "          await google.colab.kernel.invokeFunction('convertToInteractive',\n",
              "                                                    [key], {});\n",
              "        if (!dataTable) return;\n",
              "\n",
              "        const docLinkHtml = 'Like what you see? Visit the ' +\n",
              "          '<a target=\"_blank\" href=https://colab.research.google.com/notebooks/data_table.ipynb>data table notebook</a>'\n",
              "          + ' to learn more about interactive tables.';\n",
              "        element.innerHTML = '';\n",
              "        dataTable['output_type'] = 'display_data';\n",
              "        await google.colab.output.renderOutput(dataTable, element);\n",
              "        const docLink = document.createElement('div');\n",
              "        docLink.innerHTML = docLinkHtml;\n",
              "        element.appendChild(docLink);\n",
              "      }\n",
              "    </script>\n",
              "  </div>\n",
              "\n",
              "\n",
              "    <div id=\"df-7eddc57d-dad1-4321-a0b6-71a50e0870a6\">\n",
              "      <button class=\"colab-df-quickchart\" onclick=\"quickchart('df-7eddc57d-dad1-4321-a0b6-71a50e0870a6')\"\n",
              "                title=\"Suggest charts\"\n",
              "                style=\"display:none;\">\n",
              "\n",
              "<svg xmlns=\"http://www.w3.org/2000/svg\" height=\"24px\"viewBox=\"0 0 24 24\"\n",
              "     width=\"24px\">\n",
              "    <g>\n",
              "        <path d=\"M19 3H5c-1.1 0-2 .9-2 2v14c0 1.1.9 2 2 2h14c1.1 0 2-.9 2-2V5c0-1.1-.9-2-2-2zM9 17H7v-7h2v7zm4 0h-2V7h2v10zm4 0h-2v-4h2v4z\"/>\n",
              "    </g>\n",
              "</svg>\n",
              "      </button>\n",
              "\n",
              "<style>\n",
              "  .colab-df-quickchart {\n",
              "      --bg-color: #E8F0FE;\n",
              "      --fill-color: #1967D2;\n",
              "      --hover-bg-color: #E2EBFA;\n",
              "      --hover-fill-color: #174EA6;\n",
              "      --disabled-fill-color: #AAA;\n",
              "      --disabled-bg-color: #DDD;\n",
              "  }\n",
              "\n",
              "  [theme=dark] .colab-df-quickchart {\n",
              "      --bg-color: #3B4455;\n",
              "      --fill-color: #D2E3FC;\n",
              "      --hover-bg-color: #434B5C;\n",
              "      --hover-fill-color: #FFFFFF;\n",
              "      --disabled-bg-color: #3B4455;\n",
              "      --disabled-fill-color: #666;\n",
              "  }\n",
              "\n",
              "  .colab-df-quickchart {\n",
              "    background-color: var(--bg-color);\n",
              "    border: none;\n",
              "    border-radius: 50%;\n",
              "    cursor: pointer;\n",
              "    display: none;\n",
              "    fill: var(--fill-color);\n",
              "    height: 32px;\n",
              "    padding: 0;\n",
              "    width: 32px;\n",
              "  }\n",
              "\n",
              "  .colab-df-quickchart:hover {\n",
              "    background-color: var(--hover-bg-color);\n",
              "    box-shadow: 0 1px 2px rgba(60, 64, 67, 0.3), 0 1px 3px 1px rgba(60, 64, 67, 0.15);\n",
              "    fill: var(--button-hover-fill-color);\n",
              "  }\n",
              "\n",
              "  .colab-df-quickchart-complete:disabled,\n",
              "  .colab-df-quickchart-complete:disabled:hover {\n",
              "    background-color: var(--disabled-bg-color);\n",
              "    fill: var(--disabled-fill-color);\n",
              "    box-shadow: none;\n",
              "  }\n",
              "\n",
              "  .colab-df-spinner {\n",
              "    border: 2px solid var(--fill-color);\n",
              "    border-color: transparent;\n",
              "    border-bottom-color: var(--fill-color);\n",
              "    animation:\n",
              "      spin 1s steps(1) infinite;\n",
              "  }\n",
              "\n",
              "  @keyframes spin {\n",
              "    0% {\n",
              "      border-color: transparent;\n",
              "      border-bottom-color: var(--fill-color);\n",
              "      border-left-color: var(--fill-color);\n",
              "    }\n",
              "    20% {\n",
              "      border-color: transparent;\n",
              "      border-left-color: var(--fill-color);\n",
              "      border-top-color: var(--fill-color);\n",
              "    }\n",
              "    30% {\n",
              "      border-color: transparent;\n",
              "      border-left-color: var(--fill-color);\n",
              "      border-top-color: var(--fill-color);\n",
              "      border-right-color: var(--fill-color);\n",
              "    }\n",
              "    40% {\n",
              "      border-color: transparent;\n",
              "      border-right-color: var(--fill-color);\n",
              "      border-top-color: var(--fill-color);\n",
              "    }\n",
              "    60% {\n",
              "      border-color: transparent;\n",
              "      border-right-color: var(--fill-color);\n",
              "    }\n",
              "    80% {\n",
              "      border-color: transparent;\n",
              "      border-right-color: var(--fill-color);\n",
              "      border-bottom-color: var(--fill-color);\n",
              "    }\n",
              "    90% {\n",
              "      border-color: transparent;\n",
              "      border-bottom-color: var(--fill-color);\n",
              "    }\n",
              "  }\n",
              "</style>\n",
              "\n",
              "      <script>\n",
              "        async function quickchart(key) {\n",
              "          const quickchartButtonEl =\n",
              "            document.querySelector('#' + key + ' button');\n",
              "          quickchartButtonEl.disabled = true;  // To prevent multiple clicks.\n",
              "          quickchartButtonEl.classList.add('colab-df-spinner');\n",
              "          try {\n",
              "            const charts = await google.colab.kernel.invokeFunction(\n",
              "                'suggestCharts', [key], {});\n",
              "          } catch (error) {\n",
              "            console.error('Error during call to suggestCharts:', error);\n",
              "          }\n",
              "          quickchartButtonEl.classList.remove('colab-df-spinner');\n",
              "          quickchartButtonEl.classList.add('colab-df-quickchart-complete');\n",
              "        }\n",
              "        (() => {\n",
              "          let quickchartButtonEl =\n",
              "            document.querySelector('#df-7eddc57d-dad1-4321-a0b6-71a50e0870a6 button');\n",
              "          quickchartButtonEl.style.display =\n",
              "            google.colab.kernel.accessAllowed ? 'block' : 'none';\n",
              "        })();\n",
              "      </script>\n",
              "    </div>\n",
              "\n",
              "    </div>\n",
              "  </div>\n"
            ],
            "application/vnd.google.colaboratory.intrinsic+json": {
              "type": "dataframe",
              "variable_name": "df",
              "summary": "{\n  \"name\": \"df\",\n  \"rows\": 2537,\n  \"fields\": [\n    {\n      \"column\": \"TransactionID\",\n      \"properties\": {\n        \"dtype\": \"string\",\n        \"num_unique_values\": 2484,\n        \"samples\": [\n          \"TX000425\",\n          \"TX001324\",\n          \"TX002042\"\n        ],\n        \"semantic_type\": \"\",\n        \"description\": \"\"\n      }\n    },\n    {\n      \"column\": \"AccountID\",\n      \"properties\": {\n        \"dtype\": \"category\",\n        \"num_unique_values\": 495,\n        \"samples\": [\n          \"AC00059\",\n          \"AC00022\",\n          \"AC00127\"\n        ],\n        \"semantic_type\": \"\",\n        \"description\": \"\"\n      }\n    },\n    {\n      \"column\": \"TransactionAmount\",\n      \"properties\": {\n        \"dtype\": \"number\",\n        \"std\": 292.23036746912936,\n        \"min\": 0.26,\n        \"max\": 1919.11,\n        \"num_unique_values\": 2433,\n        \"samples\": [\n          689.29,\n          879.25,\n          342.17\n        ],\n        \"semantic_type\": \"\",\n        \"description\": \"\"\n      }\n    },\n    {\n      \"column\": \"TransactionDate\",\n      \"properties\": {\n        \"dtype\": \"object\",\n        \"num_unique_values\": 2485,\n        \"samples\": [\n          \"2023-04-19 17:03:11\",\n          \"2023-01-12 17:58:56\",\n          \"2023-10-31 16:05:00\"\n        ],\n        \"semantic_type\": \"\",\n        \"description\": \"\"\n      }\n    },\n    {\n      \"column\": \"TransactionType\",\n      \"properties\": {\n        \"dtype\": \"category\",\n        \"num_unique_values\": 2,\n        \"samples\": [\n          \"Credit\",\n          \"Debit\"\n        ],\n        \"semantic_type\": \"\",\n        \"description\": \"\"\n      }\n    },\n    {\n      \"column\": \"Location\",\n      \"properties\": {\n        \"dtype\": \"category\",\n        \"num_unique_values\": 43,\n        \"samples\": [\n          \"Phoenix\",\n          \"San Jose\"\n        ],\n        \"semantic_type\": \"\",\n        \"description\": \"\"\n      }\n    },\n    {\n      \"column\": \"DeviceID\",\n      \"properties\": {\n        \"dtype\": \"category\",\n        \"num_unique_values\": 681,\n        \"samples\": [\n          \"D000062\",\n          \"D000244\"\n        ],\n        \"semantic_type\": \"\",\n        \"description\": \"\"\n      }\n    },\n    {\n      \"column\": \"IP Address\",\n      \"properties\": {\n        \"dtype\": \"category\",\n        \"num_unique_values\": 591,\n        \"samples\": [\n          \"3.102.127.165\",\n          \"22.196.202.183\"\n        ],\n        \"semantic_type\": \"\",\n        \"description\": \"\"\n      }\n    },\n    {\n      \"column\": \"MerchantID\",\n      \"properties\": {\n        \"dtype\": \"category\",\n        \"num_unique_values\": 100,\n        \"samples\": [\n          \"M072\",\n          \"M032\"\n        ],\n        \"semantic_type\": \"\",\n        \"description\": \"\"\n      }\n    },\n    {\n      \"column\": \"Channel\",\n      \"properties\": {\n        \"dtype\": \"category\",\n        \"num_unique_values\": 3,\n        \"samples\": [\n          \"ATM\",\n          \"Online\"\n        ],\n        \"semantic_type\": \"\",\n        \"description\": \"\"\n      }\n    },\n    {\n      \"column\": \"CustomerAge\",\n      \"properties\": {\n        \"dtype\": \"number\",\n        \"std\": 17.83735916133878,\n        \"min\": 18.0,\n        \"max\": 80.0,\n        \"num_unique_values\": 63,\n        \"samples\": [\n          73.0,\n          77.0\n        ],\n        \"semantic_type\": \"\",\n        \"description\": \"\"\n      }\n    },\n    {\n      \"column\": \"CustomerOccupation\",\n      \"properties\": {\n        \"dtype\": \"category\",\n        \"num_unique_values\": 4,\n        \"samples\": [\n          \"Student\",\n          \"Engineer\"\n        ],\n        \"semantic_type\": \"\",\n        \"description\": \"\"\n      }\n    },\n    {\n      \"column\": \"TransactionDuration\",\n      \"properties\": {\n        \"dtype\": \"number\",\n        \"std\": 70.0785127104524,\n        \"min\": 10.0,\n        \"max\": 300.0,\n        \"num_unique_values\": 288,\n        \"samples\": [\n          138.0,\n          37.0\n        ],\n        \"semantic_type\": \"\",\n        \"description\": \"\"\n      }\n    },\n    {\n      \"column\": \"LoginAttempts\",\n      \"properties\": {\n        \"dtype\": \"number\",\n        \"std\": 0.5944688003470012,\n        \"min\": 1.0,\n        \"max\": 5.0,\n        \"num_unique_values\": 5,\n        \"samples\": [\n          3.0,\n          4.0\n        ],\n        \"semantic_type\": \"\",\n        \"description\": \"\"\n      }\n    },\n    {\n      \"column\": \"AccountBalance\",\n      \"properties\": {\n        \"dtype\": \"number\",\n        \"std\": 3897.9758606498735,\n        \"min\": 101.25,\n        \"max\": 14977.99,\n        \"num_unique_values\": 2483,\n        \"samples\": [\n          11847.07,\n          219.53\n        ],\n        \"semantic_type\": \"\",\n        \"description\": \"\"\n      }\n    },\n    {\n      \"column\": \"PreviousTransactionDate\",\n      \"properties\": {\n        \"dtype\": \"object\",\n        \"num_unique_values\": 360,\n        \"samples\": [\n          \"2024-11-04 08:11:30\",\n          \"2024-11-04 08:09:53\"\n        ],\n        \"semantic_type\": \"\",\n        \"description\": \"\"\n      }\n    }\n  ]\n}"
            }
          },
          "metadata": {},
          "execution_count": 3
        }
      ]
    },
    {
      "cell_type": "code",
      "source": [
        "df.info()"
      ],
      "metadata": {
        "id": "0MgRVyMLnR5h",
        "colab": {
          "base_uri": "https://localhost:8080/"
        },
        "outputId": "27d86855-2af2-40cd-9d52-5261e3f8d64b"
      },
      "execution_count": 4,
      "outputs": [
        {
          "output_type": "stream",
          "name": "stdout",
          "text": [
            "<class 'pandas.core.frame.DataFrame'>\n",
            "RangeIndex: 2537 entries, 0 to 2536\n",
            "Data columns (total 16 columns):\n",
            " #   Column                   Non-Null Count  Dtype  \n",
            "---  ------                   --------------  -----  \n",
            " 0   TransactionID            2508 non-null   object \n",
            " 1   AccountID                2516 non-null   object \n",
            " 2   TransactionAmount        2511 non-null   float64\n",
            " 3   TransactionDate          2509 non-null   object \n",
            " 4   TransactionType          2507 non-null   object \n",
            " 5   Location                 2507 non-null   object \n",
            " 6   DeviceID                 2507 non-null   object \n",
            " 7   IP Address               2517 non-null   object \n",
            " 8   MerchantID               2514 non-null   object \n",
            " 9   Channel                  2510 non-null   object \n",
            " 10  CustomerAge              2519 non-null   float64\n",
            " 11  CustomerOccupation       2514 non-null   object \n",
            " 12  TransactionDuration      2511 non-null   float64\n",
            " 13  LoginAttempts            2516 non-null   float64\n",
            " 14  AccountBalance           2510 non-null   float64\n",
            " 15  PreviousTransactionDate  2513 non-null   object \n",
            "dtypes: float64(5), object(11)\n",
            "memory usage: 317.3+ KB\n"
          ]
        }
      ]
    },
    {
      "cell_type": "code",
      "source": [
        "df.describe()"
      ],
      "metadata": {
        "id": "hN9KsJPonVKT",
        "colab": {
          "base_uri": "https://localhost:8080/",
          "height": 300
        },
        "outputId": "f60f9f49-20ae-47f6-b33f-5e50b14ca1f1"
      },
      "execution_count": 5,
      "outputs": [
        {
          "output_type": "execute_result",
          "data": {
            "text/plain": [
              "       TransactionAmount  CustomerAge  TransactionDuration  LoginAttempts  \\\n",
              "count        2511.000000  2519.000000          2511.000000    2516.000000   \n",
              "mean          297.656468    44.678444           119.422939       1.121622   \n",
              "std           292.230367    17.837359            70.078513       0.594469   \n",
              "min             0.260000    18.000000            10.000000       1.000000   \n",
              "25%            81.310000    27.000000            63.000000       1.000000   \n",
              "50%           211.360000    45.000000           112.000000       1.000000   \n",
              "75%           413.105000    59.000000           161.000000       1.000000   \n",
              "max          1919.110000    80.000000           300.000000       5.000000   \n",
              "\n",
              "       AccountBalance  \n",
              "count     2510.000000  \n",
              "mean      5113.438124  \n",
              "std       3897.975861  \n",
              "min        101.250000  \n",
              "25%       1504.727500  \n",
              "50%       4734.110000  \n",
              "75%       7672.687500  \n",
              "max      14977.990000  "
            ],
            "text/html": [
              "\n",
              "  <div id=\"df-d5bd5dba-849f-401d-9fc1-d2465cb892ca\" class=\"colab-df-container\">\n",
              "    <div>\n",
              "<style scoped>\n",
              "    .dataframe tbody tr th:only-of-type {\n",
              "        vertical-align: middle;\n",
              "    }\n",
              "\n",
              "    .dataframe tbody tr th {\n",
              "        vertical-align: top;\n",
              "    }\n",
              "\n",
              "    .dataframe thead th {\n",
              "        text-align: right;\n",
              "    }\n",
              "</style>\n",
              "<table border=\"1\" class=\"dataframe\">\n",
              "  <thead>\n",
              "    <tr style=\"text-align: right;\">\n",
              "      <th></th>\n",
              "      <th>TransactionAmount</th>\n",
              "      <th>CustomerAge</th>\n",
              "      <th>TransactionDuration</th>\n",
              "      <th>LoginAttempts</th>\n",
              "      <th>AccountBalance</th>\n",
              "    </tr>\n",
              "  </thead>\n",
              "  <tbody>\n",
              "    <tr>\n",
              "      <th>count</th>\n",
              "      <td>2511.000000</td>\n",
              "      <td>2519.000000</td>\n",
              "      <td>2511.000000</td>\n",
              "      <td>2516.000000</td>\n",
              "      <td>2510.000000</td>\n",
              "    </tr>\n",
              "    <tr>\n",
              "      <th>mean</th>\n",
              "      <td>297.656468</td>\n",
              "      <td>44.678444</td>\n",
              "      <td>119.422939</td>\n",
              "      <td>1.121622</td>\n",
              "      <td>5113.438124</td>\n",
              "    </tr>\n",
              "    <tr>\n",
              "      <th>std</th>\n",
              "      <td>292.230367</td>\n",
              "      <td>17.837359</td>\n",
              "      <td>70.078513</td>\n",
              "      <td>0.594469</td>\n",
              "      <td>3897.975861</td>\n",
              "    </tr>\n",
              "    <tr>\n",
              "      <th>min</th>\n",
              "      <td>0.260000</td>\n",
              "      <td>18.000000</td>\n",
              "      <td>10.000000</td>\n",
              "      <td>1.000000</td>\n",
              "      <td>101.250000</td>\n",
              "    </tr>\n",
              "    <tr>\n",
              "      <th>25%</th>\n",
              "      <td>81.310000</td>\n",
              "      <td>27.000000</td>\n",
              "      <td>63.000000</td>\n",
              "      <td>1.000000</td>\n",
              "      <td>1504.727500</td>\n",
              "    </tr>\n",
              "    <tr>\n",
              "      <th>50%</th>\n",
              "      <td>211.360000</td>\n",
              "      <td>45.000000</td>\n",
              "      <td>112.000000</td>\n",
              "      <td>1.000000</td>\n",
              "      <td>4734.110000</td>\n",
              "    </tr>\n",
              "    <tr>\n",
              "      <th>75%</th>\n",
              "      <td>413.105000</td>\n",
              "      <td>59.000000</td>\n",
              "      <td>161.000000</td>\n",
              "      <td>1.000000</td>\n",
              "      <td>7672.687500</td>\n",
              "    </tr>\n",
              "    <tr>\n",
              "      <th>max</th>\n",
              "      <td>1919.110000</td>\n",
              "      <td>80.000000</td>\n",
              "      <td>300.000000</td>\n",
              "      <td>5.000000</td>\n",
              "      <td>14977.990000</td>\n",
              "    </tr>\n",
              "  </tbody>\n",
              "</table>\n",
              "</div>\n",
              "    <div class=\"colab-df-buttons\">\n",
              "\n",
              "  <div class=\"colab-df-container\">\n",
              "    <button class=\"colab-df-convert\" onclick=\"convertToInteractive('df-d5bd5dba-849f-401d-9fc1-d2465cb892ca')\"\n",
              "            title=\"Convert this dataframe to an interactive table.\"\n",
              "            style=\"display:none;\">\n",
              "\n",
              "  <svg xmlns=\"http://www.w3.org/2000/svg\" height=\"24px\" viewBox=\"0 -960 960 960\">\n",
              "    <path d=\"M120-120v-720h720v720H120Zm60-500h600v-160H180v160Zm220 220h160v-160H400v160Zm0 220h160v-160H400v160ZM180-400h160v-160H180v160Zm440 0h160v-160H620v160ZM180-180h160v-160H180v160Zm440 0h160v-160H620v160Z\"/>\n",
              "  </svg>\n",
              "    </button>\n",
              "\n",
              "  <style>\n",
              "    .colab-df-container {\n",
              "      display:flex;\n",
              "      gap: 12px;\n",
              "    }\n",
              "\n",
              "    .colab-df-convert {\n",
              "      background-color: #E8F0FE;\n",
              "      border: none;\n",
              "      border-radius: 50%;\n",
              "      cursor: pointer;\n",
              "      display: none;\n",
              "      fill: #1967D2;\n",
              "      height: 32px;\n",
              "      padding: 0 0 0 0;\n",
              "      width: 32px;\n",
              "    }\n",
              "\n",
              "    .colab-df-convert:hover {\n",
              "      background-color: #E2EBFA;\n",
              "      box-shadow: 0px 1px 2px rgba(60, 64, 67, 0.3), 0px 1px 3px 1px rgba(60, 64, 67, 0.15);\n",
              "      fill: #174EA6;\n",
              "    }\n",
              "\n",
              "    .colab-df-buttons div {\n",
              "      margin-bottom: 4px;\n",
              "    }\n",
              "\n",
              "    [theme=dark] .colab-df-convert {\n",
              "      background-color: #3B4455;\n",
              "      fill: #D2E3FC;\n",
              "    }\n",
              "\n",
              "    [theme=dark] .colab-df-convert:hover {\n",
              "      background-color: #434B5C;\n",
              "      box-shadow: 0px 1px 3px 1px rgba(0, 0, 0, 0.15);\n",
              "      filter: drop-shadow(0px 1px 2px rgba(0, 0, 0, 0.3));\n",
              "      fill: #FFFFFF;\n",
              "    }\n",
              "  </style>\n",
              "\n",
              "    <script>\n",
              "      const buttonEl =\n",
              "        document.querySelector('#df-d5bd5dba-849f-401d-9fc1-d2465cb892ca button.colab-df-convert');\n",
              "      buttonEl.style.display =\n",
              "        google.colab.kernel.accessAllowed ? 'block' : 'none';\n",
              "\n",
              "      async function convertToInteractive(key) {\n",
              "        const element = document.querySelector('#df-d5bd5dba-849f-401d-9fc1-d2465cb892ca');\n",
              "        const dataTable =\n",
              "          await google.colab.kernel.invokeFunction('convertToInteractive',\n",
              "                                                    [key], {});\n",
              "        if (!dataTable) return;\n",
              "\n",
              "        const docLinkHtml = 'Like what you see? Visit the ' +\n",
              "          '<a target=\"_blank\" href=https://colab.research.google.com/notebooks/data_table.ipynb>data table notebook</a>'\n",
              "          + ' to learn more about interactive tables.';\n",
              "        element.innerHTML = '';\n",
              "        dataTable['output_type'] = 'display_data';\n",
              "        await google.colab.output.renderOutput(dataTable, element);\n",
              "        const docLink = document.createElement('div');\n",
              "        docLink.innerHTML = docLinkHtml;\n",
              "        element.appendChild(docLink);\n",
              "      }\n",
              "    </script>\n",
              "  </div>\n",
              "\n",
              "\n",
              "    <div id=\"df-b1ecbf93-3be0-4f92-8141-228828250617\">\n",
              "      <button class=\"colab-df-quickchart\" onclick=\"quickchart('df-b1ecbf93-3be0-4f92-8141-228828250617')\"\n",
              "                title=\"Suggest charts\"\n",
              "                style=\"display:none;\">\n",
              "\n",
              "<svg xmlns=\"http://www.w3.org/2000/svg\" height=\"24px\"viewBox=\"0 0 24 24\"\n",
              "     width=\"24px\">\n",
              "    <g>\n",
              "        <path d=\"M19 3H5c-1.1 0-2 .9-2 2v14c0 1.1.9 2 2 2h14c1.1 0 2-.9 2-2V5c0-1.1-.9-2-2-2zM9 17H7v-7h2v7zm4 0h-2V7h2v10zm4 0h-2v-4h2v4z\"/>\n",
              "    </g>\n",
              "</svg>\n",
              "      </button>\n",
              "\n",
              "<style>\n",
              "  .colab-df-quickchart {\n",
              "      --bg-color: #E8F0FE;\n",
              "      --fill-color: #1967D2;\n",
              "      --hover-bg-color: #E2EBFA;\n",
              "      --hover-fill-color: #174EA6;\n",
              "      --disabled-fill-color: #AAA;\n",
              "      --disabled-bg-color: #DDD;\n",
              "  }\n",
              "\n",
              "  [theme=dark] .colab-df-quickchart {\n",
              "      --bg-color: #3B4455;\n",
              "      --fill-color: #D2E3FC;\n",
              "      --hover-bg-color: #434B5C;\n",
              "      --hover-fill-color: #FFFFFF;\n",
              "      --disabled-bg-color: #3B4455;\n",
              "      --disabled-fill-color: #666;\n",
              "  }\n",
              "\n",
              "  .colab-df-quickchart {\n",
              "    background-color: var(--bg-color);\n",
              "    border: none;\n",
              "    border-radius: 50%;\n",
              "    cursor: pointer;\n",
              "    display: none;\n",
              "    fill: var(--fill-color);\n",
              "    height: 32px;\n",
              "    padding: 0;\n",
              "    width: 32px;\n",
              "  }\n",
              "\n",
              "  .colab-df-quickchart:hover {\n",
              "    background-color: var(--hover-bg-color);\n",
              "    box-shadow: 0 1px 2px rgba(60, 64, 67, 0.3), 0 1px 3px 1px rgba(60, 64, 67, 0.15);\n",
              "    fill: var(--button-hover-fill-color);\n",
              "  }\n",
              "\n",
              "  .colab-df-quickchart-complete:disabled,\n",
              "  .colab-df-quickchart-complete:disabled:hover {\n",
              "    background-color: var(--disabled-bg-color);\n",
              "    fill: var(--disabled-fill-color);\n",
              "    box-shadow: none;\n",
              "  }\n",
              "\n",
              "  .colab-df-spinner {\n",
              "    border: 2px solid var(--fill-color);\n",
              "    border-color: transparent;\n",
              "    border-bottom-color: var(--fill-color);\n",
              "    animation:\n",
              "      spin 1s steps(1) infinite;\n",
              "  }\n",
              "\n",
              "  @keyframes spin {\n",
              "    0% {\n",
              "      border-color: transparent;\n",
              "      border-bottom-color: var(--fill-color);\n",
              "      border-left-color: var(--fill-color);\n",
              "    }\n",
              "    20% {\n",
              "      border-color: transparent;\n",
              "      border-left-color: var(--fill-color);\n",
              "      border-top-color: var(--fill-color);\n",
              "    }\n",
              "    30% {\n",
              "      border-color: transparent;\n",
              "      border-left-color: var(--fill-color);\n",
              "      border-top-color: var(--fill-color);\n",
              "      border-right-color: var(--fill-color);\n",
              "    }\n",
              "    40% {\n",
              "      border-color: transparent;\n",
              "      border-right-color: var(--fill-color);\n",
              "      border-top-color: var(--fill-color);\n",
              "    }\n",
              "    60% {\n",
              "      border-color: transparent;\n",
              "      border-right-color: var(--fill-color);\n",
              "    }\n",
              "    80% {\n",
              "      border-color: transparent;\n",
              "      border-right-color: var(--fill-color);\n",
              "      border-bottom-color: var(--fill-color);\n",
              "    }\n",
              "    90% {\n",
              "      border-color: transparent;\n",
              "      border-bottom-color: var(--fill-color);\n",
              "    }\n",
              "  }\n",
              "</style>\n",
              "\n",
              "      <script>\n",
              "        async function quickchart(key) {\n",
              "          const quickchartButtonEl =\n",
              "            document.querySelector('#' + key + ' button');\n",
              "          quickchartButtonEl.disabled = true;  // To prevent multiple clicks.\n",
              "          quickchartButtonEl.classList.add('colab-df-spinner');\n",
              "          try {\n",
              "            const charts = await google.colab.kernel.invokeFunction(\n",
              "                'suggestCharts', [key], {});\n",
              "          } catch (error) {\n",
              "            console.error('Error during call to suggestCharts:', error);\n",
              "          }\n",
              "          quickchartButtonEl.classList.remove('colab-df-spinner');\n",
              "          quickchartButtonEl.classList.add('colab-df-quickchart-complete');\n",
              "        }\n",
              "        (() => {\n",
              "          let quickchartButtonEl =\n",
              "            document.querySelector('#df-b1ecbf93-3be0-4f92-8141-228828250617 button');\n",
              "          quickchartButtonEl.style.display =\n",
              "            google.colab.kernel.accessAllowed ? 'block' : 'none';\n",
              "        })();\n",
              "      </script>\n",
              "    </div>\n",
              "\n",
              "    </div>\n",
              "  </div>\n"
            ],
            "application/vnd.google.colaboratory.intrinsic+json": {
              "type": "dataframe",
              "summary": "{\n  \"name\": \"df\",\n  \"rows\": 8,\n  \"fields\": [\n    {\n      \"column\": \"TransactionAmount\",\n      \"properties\": {\n        \"dtype\": \"number\",\n        \"std\": 947.5993920594391,\n        \"min\": 0.26,\n        \"max\": 2511.0,\n        \"num_unique_values\": 8,\n        \"samples\": [\n          297.6564675428116,\n          211.36,\n          2511.0\n        ],\n        \"semantic_type\": \"\",\n        \"description\": \"\"\n      }\n    },\n    {\n      \"column\": \"CustomerAge\",\n      \"properties\": {\n        \"dtype\": \"number\",\n        \"std\": 876.1326913421283,\n        \"min\": 17.83735916133878,\n        \"max\": 2519.0,\n        \"num_unique_values\": 8,\n        \"samples\": [\n          44.67844382691544,\n          45.0,\n          2519.0\n        ],\n        \"semantic_type\": \"\",\n        \"description\": \"\"\n      }\n    },\n    {\n      \"column\": \"TransactionDuration\",\n      \"properties\": {\n        \"dtype\": \"number\",\n        \"std\": 849.953262620521,\n        \"min\": 10.0,\n        \"max\": 2511.0,\n        \"num_unique_values\": 8,\n        \"samples\": [\n          119.42293906810036,\n          112.0,\n          2511.0\n        ],\n        \"semantic_type\": \"\",\n        \"description\": \"\"\n      }\n    },\n    {\n      \"column\": \"LoginAttempts\",\n      \"properties\": {\n        \"dtype\": \"number\",\n        \"std\": 889.0002278827087,\n        \"min\": 0.5944688003470012,\n        \"max\": 2516.0,\n        \"num_unique_values\": 5,\n        \"samples\": [\n          1.1216216216216217,\n          5.0,\n          0.5944688003470012\n        ],\n        \"semantic_type\": \"\",\n        \"description\": \"\"\n      }\n    },\n    {\n      \"column\": \"AccountBalance\",\n      \"properties\": {\n        \"dtype\": \"number\",\n        \"std\": 4635.0151227093575,\n        \"min\": 101.25,\n        \"max\": 14977.99,\n        \"num_unique_values\": 8,\n        \"samples\": [\n          5113.438123505975,\n          4734.110000000001,\n          2510.0\n        ],\n        \"semantic_type\": \"\",\n        \"description\": \"\"\n      }\n    }\n  ]\n}"
            }
          },
          "metadata": {},
          "execution_count": 5
        }
      ]
    },
    {
      "cell_type": "markdown",
      "source": [
        "(Opsional) Memuat Dataset dan Melakukan Exploratory Data Analysis (EDA) [Skilled]\n",
        "\n",
        "**Biarkan kosong jika tidak menerapkan kriteria skilled**"
      ],
      "metadata": {
        "id": "DNOEZk24uiXu"
      }
    },
    {
      "cell_type": "code",
      "source": [
        "# Menampilkan korelasi antar fitur (Opsional Skilled 1)"
      ],
      "metadata": {
        "id": "DGAJlKExnYAt"
      },
      "execution_count": 6,
      "outputs": []
    },
    {
      "cell_type": "code",
      "source": [
        "# Menampilkan histogram untuk semua kolom numerik (Opsional Skilled 1)"
      ],
      "metadata": {
        "id": "kcBn9v4Fn8FO"
      },
      "execution_count": 7,
      "outputs": []
    },
    {
      "cell_type": "markdown",
      "source": [
        "(Opsional) Memuat Dataset dan Melakukan Exploratory Data Analysis (EDA) [Advanced]\n",
        "\n",
        "**Biarkan kosong jika tidak menerapkan kriteria advanced**"
      ],
      "metadata": {
        "id": "k-S35baFuwaP"
      }
    },
    {
      "cell_type": "code",
      "source": [
        "# Visualisasi yang lebih informatif (Opsional Advanced 1)"
      ],
      "metadata": {
        "id": "GVIuT8VDokKn"
      },
      "execution_count": 8,
      "outputs": []
    },
    {
      "cell_type": "markdown",
      "source": [
        "# **3. Pembersihan dan Pra Pemrosesan Data**\n",
        "\n",
        "Pada tahap ini, Anda akan melakukan **Pembersihan Dataset** untuk menjadikan dataset mudah diintepretasi dan bisa dilatih. Hal-hal yang wajib kamu lakukan yaitu:\n",
        "\n",
        "1. **Mengecek dataset** menggunakan isnull().sum() dan duplicated().sum().\n",
        "2. Melakukan feature scaling menggunakan `MinMaxScaler()` atau `StandardScalar()` untuk fitur numerik.\n",
        "3. Melakukan feature encoding menggunakan `LabelEncoder()` untuk fitur kategorikal.\n",
        "4. Melakukan drop pada kolom id.\n",
        "5. **Ketentuan Cell Code**\n",
        "   - Pastikan **setiap pemeriksaan tersebut** memiliki **output pada cell-nya**. Jika tidak **submission langsung ditolak**\n"
      ],
      "metadata": {
        "id": "cSemyzQHU0On"
      }
    },
    {
      "cell_type": "code",
      "source": [
        "df.isnull().sum()"
      ],
      "metadata": {
        "id": "dKeejtvxM6X1",
        "colab": {
          "base_uri": "https://localhost:8080/",
          "height": 586
        },
        "outputId": "270c64f0-30d9-4bed-e37e-b7570fccedf1"
      },
      "execution_count": 9,
      "outputs": [
        {
          "output_type": "execute_result",
          "data": {
            "text/plain": [
              "TransactionID              29\n",
              "AccountID                  21\n",
              "TransactionAmount          26\n",
              "TransactionDate            28\n",
              "TransactionType            30\n",
              "Location                   30\n",
              "DeviceID                   30\n",
              "IP Address                 20\n",
              "MerchantID                 23\n",
              "Channel                    27\n",
              "CustomerAge                18\n",
              "CustomerOccupation         23\n",
              "TransactionDuration        26\n",
              "LoginAttempts              21\n",
              "AccountBalance             27\n",
              "PreviousTransactionDate    24\n",
              "dtype: int64"
            ],
            "text/html": [
              "<div>\n",
              "<style scoped>\n",
              "    .dataframe tbody tr th:only-of-type {\n",
              "        vertical-align: middle;\n",
              "    }\n",
              "\n",
              "    .dataframe tbody tr th {\n",
              "        vertical-align: top;\n",
              "    }\n",
              "\n",
              "    .dataframe thead th {\n",
              "        text-align: right;\n",
              "    }\n",
              "</style>\n",
              "<table border=\"1\" class=\"dataframe\">\n",
              "  <thead>\n",
              "    <tr style=\"text-align: right;\">\n",
              "      <th></th>\n",
              "      <th>0</th>\n",
              "    </tr>\n",
              "  </thead>\n",
              "  <tbody>\n",
              "    <tr>\n",
              "      <th>TransactionID</th>\n",
              "      <td>29</td>\n",
              "    </tr>\n",
              "    <tr>\n",
              "      <th>AccountID</th>\n",
              "      <td>21</td>\n",
              "    </tr>\n",
              "    <tr>\n",
              "      <th>TransactionAmount</th>\n",
              "      <td>26</td>\n",
              "    </tr>\n",
              "    <tr>\n",
              "      <th>TransactionDate</th>\n",
              "      <td>28</td>\n",
              "    </tr>\n",
              "    <tr>\n",
              "      <th>TransactionType</th>\n",
              "      <td>30</td>\n",
              "    </tr>\n",
              "    <tr>\n",
              "      <th>Location</th>\n",
              "      <td>30</td>\n",
              "    </tr>\n",
              "    <tr>\n",
              "      <th>DeviceID</th>\n",
              "      <td>30</td>\n",
              "    </tr>\n",
              "    <tr>\n",
              "      <th>IP Address</th>\n",
              "      <td>20</td>\n",
              "    </tr>\n",
              "    <tr>\n",
              "      <th>MerchantID</th>\n",
              "      <td>23</td>\n",
              "    </tr>\n",
              "    <tr>\n",
              "      <th>Channel</th>\n",
              "      <td>27</td>\n",
              "    </tr>\n",
              "    <tr>\n",
              "      <th>CustomerAge</th>\n",
              "      <td>18</td>\n",
              "    </tr>\n",
              "    <tr>\n",
              "      <th>CustomerOccupation</th>\n",
              "      <td>23</td>\n",
              "    </tr>\n",
              "    <tr>\n",
              "      <th>TransactionDuration</th>\n",
              "      <td>26</td>\n",
              "    </tr>\n",
              "    <tr>\n",
              "      <th>LoginAttempts</th>\n",
              "      <td>21</td>\n",
              "    </tr>\n",
              "    <tr>\n",
              "      <th>AccountBalance</th>\n",
              "      <td>27</td>\n",
              "    </tr>\n",
              "    <tr>\n",
              "      <th>PreviousTransactionDate</th>\n",
              "      <td>24</td>\n",
              "    </tr>\n",
              "  </tbody>\n",
              "</table>\n",
              "</div><br><label><b>dtype:</b> int64</label>"
            ]
          },
          "metadata": {},
          "execution_count": 9
        }
      ]
    },
    {
      "cell_type": "code",
      "source": [
        "df.duplicated().sum()"
      ],
      "metadata": {
        "id": "2RrBA92mpHBc",
        "colab": {
          "base_uri": "https://localhost:8080/"
        },
        "outputId": "dfc1f260-8eff-4aa2-b16b-fab694c7eb5e"
      },
      "execution_count": 10,
      "outputs": [
        {
          "output_type": "execute_result",
          "data": {
            "text/plain": [
              "np.int64(21)"
            ]
          },
          "metadata": {},
          "execution_count": 10
        }
      ]
    },
    {
      "cell_type": "code",
      "source": [
        "numerical_columns = ['TransactionAmount', 'CustomerAge', 'TransactionDuration', 'AccountBalance', 'LoginAttempts']\n",
        "df[numerical_columns] = df[numerical_columns].fillna(df[numerical_columns].median())"
      ],
      "metadata": {
        "id": "SFTcWeIZ9IKx"
      },
      "execution_count": 11,
      "outputs": []
    },
    {
      "cell_type": "code",
      "source": [
        "categorical_columns = ['TransactionType', 'Location', 'DeviceID', 'IP Address', 'MerchantID', 'Channel', 'CustomerOccupation']\n",
        "for col in categorical_columns:\n",
        "    df[col] = df[col].fillna(df[col].mode()[0])"
      ],
      "metadata": {
        "id": "8BA7xvbt9Mf3"
      },
      "execution_count": 12,
      "outputs": []
    },
    {
      "cell_type": "code",
      "source": [
        "features = df[['TransactionAmount', 'CustomerAge', 'TransactionDuration', 'AccountBalance']]\n",
        "scaler = MinMaxScaler()  # Inisialisasi MinMaxScaler\n",
        "scaled_features = scaler.fit_transform(features)  # Scaling fitur"
      ],
      "metadata": {
        "id": "G7WXozOgpJp-"
      },
      "execution_count": 13,
      "outputs": []
    },
    {
      "cell_type": "code",
      "source": [
        "df = df.drop(columns=['TransactionID', 'AccountID', 'IP Address', 'DeviceID', 'MerchantID'])"
      ],
      "metadata": {
        "id": "TGLR0NTwsMOp"
      },
      "execution_count": 14,
      "outputs": []
    },
    {
      "cell_type": "code",
      "source": [
        "scaled_df = pd.DataFrame(scaled_features, columns=features.columns)\n",
        "print(scaled_df.head())"
      ],
      "metadata": {
        "colab": {
          "base_uri": "https://localhost:8080/"
        },
        "id": "jGMAm9vg7ay0",
        "outputId": "8ae8c524-c5dc-4e60-993d-1238587db3a5"
      },
      "execution_count": 15,
      "outputs": [
        {
          "output_type": "stream",
          "name": "stdout",
          "text": [
            "   TransactionAmount  CustomerAge  TransactionDuration  AccountBalance\n",
            "0           0.007207     0.838710             0.244828        0.336832\n",
            "1           0.195940     0.806452             0.451724        0.918055\n",
            "2           0.065680     0.016129             0.158621        0.068637\n",
            "3           0.096016     0.129032             0.051724        0.569198\n",
            "4           0.006874     0.435484             0.648276        0.492591\n"
          ]
        }
      ]
    },
    {
      "cell_type": "code",
      "source": [
        "label_encoder = LabelEncoder()"
      ],
      "metadata": {
        "id": "6eycdNMQqx4c"
      },
      "execution_count": 16,
      "outputs": []
    },
    {
      "cell_type": "code",
      "source": [
        "df['TransactionType'] = label_encoder.fit_transform(df['TransactionType'])\n",
        "df['Location'] = label_encoder.fit_transform(df['Location'])\n",
        "df['Channel'] = label_encoder.fit_transform(df['Channel'])\n",
        "df['CustomerOccupation'] = label_encoder.fit_transform(df['CustomerOccupation'])"
      ],
      "metadata": {
        "id": "TxvSP1M38G-G"
      },
      "execution_count": 18,
      "outputs": []
    },
    {
      "cell_type": "code",
      "source": [
        "df.head()"
      ],
      "metadata": {
        "colab": {
          "base_uri": "https://localhost:8080/",
          "height": 206
        },
        "id": "VZA7sHDV8N8L",
        "outputId": "6a84f725-bf4d-49d3-cfa2-9a5b0e6c061b"
      },
      "execution_count": 19,
      "outputs": [
        {
          "output_type": "execute_result",
          "data": {
            "text/plain": [
              "   TransactionAmount      TransactionDate  TransactionType  Location  Channel  \\\n",
              "0              14.09  2023-04-11 16:29:14                1        36        0   \n",
              "1             376.24  2023-06-27 16:44:19                1        15        0   \n",
              "2             126.29  2023-07-10 18:16:08                1        23        2   \n",
              "3             184.50  2023-05-05 16:32:11                1        33        2   \n",
              "4              13.45  2023-10-16 17:51:24                0         1        2   \n",
              "\n",
              "   CustomerAge  CustomerOccupation  TransactionDuration  LoginAttempts  \\\n",
              "0         70.0                   0                 81.0            1.0   \n",
              "1         68.0                   0                141.0            1.0   \n",
              "2         19.0                   3                 56.0            1.0   \n",
              "3         26.0                   3                 25.0            1.0   \n",
              "4         45.0                   3                198.0            1.0   \n",
              "\n",
              "   AccountBalance PreviousTransactionDate  \n",
              "0         5112.21     2024-11-04 08:08:08  \n",
              "1        13758.91     2024-11-04 08:09:35  \n",
              "2         1122.35     2024-11-04 08:07:04  \n",
              "3         8569.06     2024-11-04 08:09:06  \n",
              "4         7429.40     2024-11-04 08:06:39  "
            ],
            "text/html": [
              "\n",
              "  <div id=\"df-b6f69e35-9d5a-4c80-ba17-eceecaa9d1dc\" class=\"colab-df-container\">\n",
              "    <div>\n",
              "<style scoped>\n",
              "    .dataframe tbody tr th:only-of-type {\n",
              "        vertical-align: middle;\n",
              "    }\n",
              "\n",
              "    .dataframe tbody tr th {\n",
              "        vertical-align: top;\n",
              "    }\n",
              "\n",
              "    .dataframe thead th {\n",
              "        text-align: right;\n",
              "    }\n",
              "</style>\n",
              "<table border=\"1\" class=\"dataframe\">\n",
              "  <thead>\n",
              "    <tr style=\"text-align: right;\">\n",
              "      <th></th>\n",
              "      <th>TransactionAmount</th>\n",
              "      <th>TransactionDate</th>\n",
              "      <th>TransactionType</th>\n",
              "      <th>Location</th>\n",
              "      <th>Channel</th>\n",
              "      <th>CustomerAge</th>\n",
              "      <th>CustomerOccupation</th>\n",
              "      <th>TransactionDuration</th>\n",
              "      <th>LoginAttempts</th>\n",
              "      <th>AccountBalance</th>\n",
              "      <th>PreviousTransactionDate</th>\n",
              "    </tr>\n",
              "  </thead>\n",
              "  <tbody>\n",
              "    <tr>\n",
              "      <th>0</th>\n",
              "      <td>14.09</td>\n",
              "      <td>2023-04-11 16:29:14</td>\n",
              "      <td>1</td>\n",
              "      <td>36</td>\n",
              "      <td>0</td>\n",
              "      <td>70.0</td>\n",
              "      <td>0</td>\n",
              "      <td>81.0</td>\n",
              "      <td>1.0</td>\n",
              "      <td>5112.21</td>\n",
              "      <td>2024-11-04 08:08:08</td>\n",
              "    </tr>\n",
              "    <tr>\n",
              "      <th>1</th>\n",
              "      <td>376.24</td>\n",
              "      <td>2023-06-27 16:44:19</td>\n",
              "      <td>1</td>\n",
              "      <td>15</td>\n",
              "      <td>0</td>\n",
              "      <td>68.0</td>\n",
              "      <td>0</td>\n",
              "      <td>141.0</td>\n",
              "      <td>1.0</td>\n",
              "      <td>13758.91</td>\n",
              "      <td>2024-11-04 08:09:35</td>\n",
              "    </tr>\n",
              "    <tr>\n",
              "      <th>2</th>\n",
              "      <td>126.29</td>\n",
              "      <td>2023-07-10 18:16:08</td>\n",
              "      <td>1</td>\n",
              "      <td>23</td>\n",
              "      <td>2</td>\n",
              "      <td>19.0</td>\n",
              "      <td>3</td>\n",
              "      <td>56.0</td>\n",
              "      <td>1.0</td>\n",
              "      <td>1122.35</td>\n",
              "      <td>2024-11-04 08:07:04</td>\n",
              "    </tr>\n",
              "    <tr>\n",
              "      <th>3</th>\n",
              "      <td>184.50</td>\n",
              "      <td>2023-05-05 16:32:11</td>\n",
              "      <td>1</td>\n",
              "      <td>33</td>\n",
              "      <td>2</td>\n",
              "      <td>26.0</td>\n",
              "      <td>3</td>\n",
              "      <td>25.0</td>\n",
              "      <td>1.0</td>\n",
              "      <td>8569.06</td>\n",
              "      <td>2024-11-04 08:09:06</td>\n",
              "    </tr>\n",
              "    <tr>\n",
              "      <th>4</th>\n",
              "      <td>13.45</td>\n",
              "      <td>2023-10-16 17:51:24</td>\n",
              "      <td>0</td>\n",
              "      <td>1</td>\n",
              "      <td>2</td>\n",
              "      <td>45.0</td>\n",
              "      <td>3</td>\n",
              "      <td>198.0</td>\n",
              "      <td>1.0</td>\n",
              "      <td>7429.40</td>\n",
              "      <td>2024-11-04 08:06:39</td>\n",
              "    </tr>\n",
              "  </tbody>\n",
              "</table>\n",
              "</div>\n",
              "    <div class=\"colab-df-buttons\">\n",
              "\n",
              "  <div class=\"colab-df-container\">\n",
              "    <button class=\"colab-df-convert\" onclick=\"convertToInteractive('df-b6f69e35-9d5a-4c80-ba17-eceecaa9d1dc')\"\n",
              "            title=\"Convert this dataframe to an interactive table.\"\n",
              "            style=\"display:none;\">\n",
              "\n",
              "  <svg xmlns=\"http://www.w3.org/2000/svg\" height=\"24px\" viewBox=\"0 -960 960 960\">\n",
              "    <path d=\"M120-120v-720h720v720H120Zm60-500h600v-160H180v160Zm220 220h160v-160H400v160Zm0 220h160v-160H400v160ZM180-400h160v-160H180v160Zm440 0h160v-160H620v160ZM180-180h160v-160H180v160Zm440 0h160v-160H620v160Z\"/>\n",
              "  </svg>\n",
              "    </button>\n",
              "\n",
              "  <style>\n",
              "    .colab-df-container {\n",
              "      display:flex;\n",
              "      gap: 12px;\n",
              "    }\n",
              "\n",
              "    .colab-df-convert {\n",
              "      background-color: #E8F0FE;\n",
              "      border: none;\n",
              "      border-radius: 50%;\n",
              "      cursor: pointer;\n",
              "      display: none;\n",
              "      fill: #1967D2;\n",
              "      height: 32px;\n",
              "      padding: 0 0 0 0;\n",
              "      width: 32px;\n",
              "    }\n",
              "\n",
              "    .colab-df-convert:hover {\n",
              "      background-color: #E2EBFA;\n",
              "      box-shadow: 0px 1px 2px rgba(60, 64, 67, 0.3), 0px 1px 3px 1px rgba(60, 64, 67, 0.15);\n",
              "      fill: #174EA6;\n",
              "    }\n",
              "\n",
              "    .colab-df-buttons div {\n",
              "      margin-bottom: 4px;\n",
              "    }\n",
              "\n",
              "    [theme=dark] .colab-df-convert {\n",
              "      background-color: #3B4455;\n",
              "      fill: #D2E3FC;\n",
              "    }\n",
              "\n",
              "    [theme=dark] .colab-df-convert:hover {\n",
              "      background-color: #434B5C;\n",
              "      box-shadow: 0px 1px 3px 1px rgba(0, 0, 0, 0.15);\n",
              "      filter: drop-shadow(0px 1px 2px rgba(0, 0, 0, 0.3));\n",
              "      fill: #FFFFFF;\n",
              "    }\n",
              "  </style>\n",
              "\n",
              "    <script>\n",
              "      const buttonEl =\n",
              "        document.querySelector('#df-b6f69e35-9d5a-4c80-ba17-eceecaa9d1dc button.colab-df-convert');\n",
              "      buttonEl.style.display =\n",
              "        google.colab.kernel.accessAllowed ? 'block' : 'none';\n",
              "\n",
              "      async function convertToInteractive(key) {\n",
              "        const element = document.querySelector('#df-b6f69e35-9d5a-4c80-ba17-eceecaa9d1dc');\n",
              "        const dataTable =\n",
              "          await google.colab.kernel.invokeFunction('convertToInteractive',\n",
              "                                                    [key], {});\n",
              "        if (!dataTable) return;\n",
              "\n",
              "        const docLinkHtml = 'Like what you see? Visit the ' +\n",
              "          '<a target=\"_blank\" href=https://colab.research.google.com/notebooks/data_table.ipynb>data table notebook</a>'\n",
              "          + ' to learn more about interactive tables.';\n",
              "        element.innerHTML = '';\n",
              "        dataTable['output_type'] = 'display_data';\n",
              "        await google.colab.output.renderOutput(dataTable, element);\n",
              "        const docLink = document.createElement('div');\n",
              "        docLink.innerHTML = docLinkHtml;\n",
              "        element.appendChild(docLink);\n",
              "      }\n",
              "    </script>\n",
              "  </div>\n",
              "\n",
              "\n",
              "    <div id=\"df-64a8e821-5810-4d89-be80-aea5bf85d930\">\n",
              "      <button class=\"colab-df-quickchart\" onclick=\"quickchart('df-64a8e821-5810-4d89-be80-aea5bf85d930')\"\n",
              "                title=\"Suggest charts\"\n",
              "                style=\"display:none;\">\n",
              "\n",
              "<svg xmlns=\"http://www.w3.org/2000/svg\" height=\"24px\"viewBox=\"0 0 24 24\"\n",
              "     width=\"24px\">\n",
              "    <g>\n",
              "        <path d=\"M19 3H5c-1.1 0-2 .9-2 2v14c0 1.1.9 2 2 2h14c1.1 0 2-.9 2-2V5c0-1.1-.9-2-2-2zM9 17H7v-7h2v7zm4 0h-2V7h2v10zm4 0h-2v-4h2v4z\"/>\n",
              "    </g>\n",
              "</svg>\n",
              "      </button>\n",
              "\n",
              "<style>\n",
              "  .colab-df-quickchart {\n",
              "      --bg-color: #E8F0FE;\n",
              "      --fill-color: #1967D2;\n",
              "      --hover-bg-color: #E2EBFA;\n",
              "      --hover-fill-color: #174EA6;\n",
              "      --disabled-fill-color: #AAA;\n",
              "      --disabled-bg-color: #DDD;\n",
              "  }\n",
              "\n",
              "  [theme=dark] .colab-df-quickchart {\n",
              "      --bg-color: #3B4455;\n",
              "      --fill-color: #D2E3FC;\n",
              "      --hover-bg-color: #434B5C;\n",
              "      --hover-fill-color: #FFFFFF;\n",
              "      --disabled-bg-color: #3B4455;\n",
              "      --disabled-fill-color: #666;\n",
              "  }\n",
              "\n",
              "  .colab-df-quickchart {\n",
              "    background-color: var(--bg-color);\n",
              "    border: none;\n",
              "    border-radius: 50%;\n",
              "    cursor: pointer;\n",
              "    display: none;\n",
              "    fill: var(--fill-color);\n",
              "    height: 32px;\n",
              "    padding: 0;\n",
              "    width: 32px;\n",
              "  }\n",
              "\n",
              "  .colab-df-quickchart:hover {\n",
              "    background-color: var(--hover-bg-color);\n",
              "    box-shadow: 0 1px 2px rgba(60, 64, 67, 0.3), 0 1px 3px 1px rgba(60, 64, 67, 0.15);\n",
              "    fill: var(--button-hover-fill-color);\n",
              "  }\n",
              "\n",
              "  .colab-df-quickchart-complete:disabled,\n",
              "  .colab-df-quickchart-complete:disabled:hover {\n",
              "    background-color: var(--disabled-bg-color);\n",
              "    fill: var(--disabled-fill-color);\n",
              "    box-shadow: none;\n",
              "  }\n",
              "\n",
              "  .colab-df-spinner {\n",
              "    border: 2px solid var(--fill-color);\n",
              "    border-color: transparent;\n",
              "    border-bottom-color: var(--fill-color);\n",
              "    animation:\n",
              "      spin 1s steps(1) infinite;\n",
              "  }\n",
              "\n",
              "  @keyframes spin {\n",
              "    0% {\n",
              "      border-color: transparent;\n",
              "      border-bottom-color: var(--fill-color);\n",
              "      border-left-color: var(--fill-color);\n",
              "    }\n",
              "    20% {\n",
              "      border-color: transparent;\n",
              "      border-left-color: var(--fill-color);\n",
              "      border-top-color: var(--fill-color);\n",
              "    }\n",
              "    30% {\n",
              "      border-color: transparent;\n",
              "      border-left-color: var(--fill-color);\n",
              "      border-top-color: var(--fill-color);\n",
              "      border-right-color: var(--fill-color);\n",
              "    }\n",
              "    40% {\n",
              "      border-color: transparent;\n",
              "      border-right-color: var(--fill-color);\n",
              "      border-top-color: var(--fill-color);\n",
              "    }\n",
              "    60% {\n",
              "      border-color: transparent;\n",
              "      border-right-color: var(--fill-color);\n",
              "    }\n",
              "    80% {\n",
              "      border-color: transparent;\n",
              "      border-right-color: var(--fill-color);\n",
              "      border-bottom-color: var(--fill-color);\n",
              "    }\n",
              "    90% {\n",
              "      border-color: transparent;\n",
              "      border-bottom-color: var(--fill-color);\n",
              "    }\n",
              "  }\n",
              "</style>\n",
              "\n",
              "      <script>\n",
              "        async function quickchart(key) {\n",
              "          const quickchartButtonEl =\n",
              "            document.querySelector('#' + key + ' button');\n",
              "          quickchartButtonEl.disabled = true;  // To prevent multiple clicks.\n",
              "          quickchartButtonEl.classList.add('colab-df-spinner');\n",
              "          try {\n",
              "            const charts = await google.colab.kernel.invokeFunction(\n",
              "                'suggestCharts', [key], {});\n",
              "          } catch (error) {\n",
              "            console.error('Error during call to suggestCharts:', error);\n",
              "          }\n",
              "          quickchartButtonEl.classList.remove('colab-df-spinner');\n",
              "          quickchartButtonEl.classList.add('colab-df-quickchart-complete');\n",
              "        }\n",
              "        (() => {\n",
              "          let quickchartButtonEl =\n",
              "            document.querySelector('#df-64a8e821-5810-4d89-be80-aea5bf85d930 button');\n",
              "          quickchartButtonEl.style.display =\n",
              "            google.colab.kernel.accessAllowed ? 'block' : 'none';\n",
              "        })();\n",
              "      </script>\n",
              "    </div>\n",
              "\n",
              "    </div>\n",
              "  </div>\n"
            ],
            "application/vnd.google.colaboratory.intrinsic+json": {
              "type": "dataframe",
              "variable_name": "df",
              "summary": "{\n  \"name\": \"df\",\n  \"rows\": 2537,\n  \"fields\": [\n    {\n      \"column\": \"TransactionAmount\",\n      \"properties\": {\n        \"dtype\": \"number\",\n        \"std\": 290.85841543828064,\n        \"min\": 0.26,\n        \"max\": 1919.11,\n        \"num_unique_values\": 2433,\n        \"samples\": [\n          689.29,\n          879.25,\n          342.17\n        ],\n        \"semantic_type\": \"\",\n        \"description\": \"\"\n      }\n    },\n    {\n      \"column\": \"TransactionDate\",\n      \"properties\": {\n        \"dtype\": \"object\",\n        \"num_unique_values\": 2485,\n        \"samples\": [\n          \"2023-04-19 17:03:11\",\n          \"2023-01-12 17:58:56\",\n          \"2023-10-31 16:05:00\"\n        ],\n        \"semantic_type\": \"\",\n        \"description\": \"\"\n      }\n    },\n    {\n      \"column\": \"TransactionType\",\n      \"properties\": {\n        \"dtype\": \"number\",\n        \"std\": 0,\n        \"min\": 0,\n        \"max\": 1,\n        \"num_unique_values\": 2,\n        \"samples\": [\n          0,\n          1\n        ],\n        \"semantic_type\": \"\",\n        \"description\": \"\"\n      }\n    },\n    {\n      \"column\": \"Location\",\n      \"properties\": {\n        \"dtype\": \"number\",\n        \"std\": 12,\n        \"min\": 0,\n        \"max\": 42,\n        \"num_unique_values\": 43,\n        \"samples\": [\n          31,\n          38\n        ],\n        \"semantic_type\": \"\",\n        \"description\": \"\"\n      }\n    },\n    {\n      \"column\": \"Channel\",\n      \"properties\": {\n        \"dtype\": \"number\",\n        \"std\": 0,\n        \"min\": 0,\n        \"max\": 2,\n        \"num_unique_values\": 3,\n        \"samples\": [\n          0,\n          2\n        ],\n        \"semantic_type\": \"\",\n        \"description\": \"\"\n      }\n    },\n    {\n      \"column\": \"CustomerAge\",\n      \"properties\": {\n        \"dtype\": \"number\",\n        \"std\": 17.77396400129158,\n        \"min\": 18.0,\n        \"max\": 80.0,\n        \"num_unique_values\": 63,\n        \"samples\": [\n          73.0,\n          77.0\n        ],\n        \"semantic_type\": \"\",\n        \"description\": \"\"\n      }\n    },\n    {\n      \"column\": \"CustomerOccupation\",\n      \"properties\": {\n        \"dtype\": \"number\",\n        \"std\": 1,\n        \"min\": 0,\n        \"max\": 3,\n        \"num_unique_values\": 4,\n        \"samples\": [\n          3,\n          1\n        ],\n        \"semantic_type\": \"\",\n        \"description\": \"\"\n      }\n    },\n    {\n      \"column\": \"TransactionDuration\",\n      \"properties\": {\n        \"dtype\": \"number\",\n        \"std\": 69.72236163514911,\n        \"min\": 10.0,\n        \"max\": 300.0,\n        \"num_unique_values\": 288,\n        \"samples\": [\n          138.0,\n          42.0\n        ],\n        \"semantic_type\": \"\",\n        \"description\": \"\"\n      }\n    },\n    {\n      \"column\": \"LoginAttempts\",\n      \"properties\": {\n        \"dtype\": \"number\",\n        \"std\": 0.5921049444842222,\n        \"min\": 1.0,\n        \"max\": 5.0,\n        \"num_unique_values\": 5,\n        \"samples\": [\n          3.0,\n          4.0\n        ],\n        \"semantic_type\": \"\",\n        \"description\": \"\"\n      }\n    },\n    {\n      \"column\": \"AccountBalance\",\n      \"properties\": {\n        \"dtype\": \"number\",\n        \"std\": 3877.365521322758,\n        \"min\": 101.25,\n        \"max\": 14977.99,\n        \"num_unique_values\": 2484,\n        \"samples\": [\n          5579.11,\n          219.53\n        ],\n        \"semantic_type\": \"\",\n        \"description\": \"\"\n      }\n    },\n    {\n      \"column\": \"PreviousTransactionDate\",\n      \"properties\": {\n        \"dtype\": \"object\",\n        \"num_unique_values\": 360,\n        \"samples\": [\n          \"2024-11-04 08:11:30\",\n          \"2024-11-04 08:09:53\"\n        ],\n        \"semantic_type\": \"\",\n        \"description\": \"\"\n      }\n    }\n  ]\n}"
            }
          },
          "metadata": {},
          "execution_count": 19
        }
      ]
    },
    {
      "cell_type": "code",
      "source": [
        "df.columns.tolist()"
      ],
      "metadata": {
        "id": "u1EmlGmZCCAP",
        "colab": {
          "base_uri": "https://localhost:8080/"
        },
        "outputId": "acfa764f-f52e-4506-c038-4163c1a74569"
      },
      "execution_count": 20,
      "outputs": [
        {
          "output_type": "execute_result",
          "data": {
            "text/plain": [
              "['TransactionAmount',\n",
              " 'TransactionDate',\n",
              " 'TransactionType',\n",
              " 'Location',\n",
              " 'Channel',\n",
              " 'CustomerAge',\n",
              " 'CustomerOccupation',\n",
              " 'TransactionDuration',\n",
              " 'LoginAttempts',\n",
              " 'AccountBalance',\n",
              " 'PreviousTransactionDate']"
            ]
          },
          "metadata": {},
          "execution_count": 20
        }
      ]
    },
    {
      "cell_type": "markdown",
      "source": [
        "(Opsional) Pembersihan dan Pra Pemrosesan Data [Skilled]\n",
        "\n",
        "**Biarkan kosong jika tidak menerapkan kriteria skilled**"
      ],
      "metadata": {
        "id": "qnbH2l_wv9l8"
      }
    },
    {
      "cell_type": "code",
      "source": [
        "# Menangani data yang hilang (bisa menggunakan dropna() atau metode imputasi fillna())."
      ],
      "metadata": {
        "id": "-UoGhAUrsxIV"
      },
      "execution_count": 21,
      "outputs": []
    },
    {
      "cell_type": "code",
      "source": [
        "# Menghapus data duplikat menggunakan drop_duplicates()."
      ],
      "metadata": {
        "id": "WGt2XApTttSL"
      },
      "execution_count": 22,
      "outputs": []
    },
    {
      "cell_type": "markdown",
      "source": [
        "(Opsional) Pembersihan dan Pra Pemrosesan Data [Advanced]\n",
        "\n",
        "**Biarkan kosong jika tidak menerapkan kriteria advanced**"
      ],
      "metadata": {
        "id": "H5RrswThwQrC"
      }
    },
    {
      "cell_type": "code",
      "source": [
        "# Melakukan Handling Outlier Data berdasarkan jumlah outlier, apakah menggunakan metode drop atau mengisi nilai tersebut."
      ],
      "metadata": {
        "id": "mvhfyYpat9Xs"
      },
      "execution_count": 23,
      "outputs": []
    },
    {
      "cell_type": "code",
      "source": [
        "# Melakukan binning data berdasarkan kondisi rentang nilai pada fitur numerik,\n",
        "# lakukan pada satu sampai dua fitur numerik.\n",
        "# Silahkan lakukan encode hasil binning tersebut menggunakan LabelEncoder."
      ],
      "metadata": {
        "id": "QjcR-3G0u-GL"
      },
      "execution_count": 24,
      "outputs": []
    },
    {
      "cell_type": "markdown",
      "source": [
        "# **4. Membangun Model Clustering**\n",
        "Pada tahap ini, Anda membangun model clustering dengan memilih algoritma yang sesuai untuk mengelompokkan data berdasarkan kesamaan.\n",
        "1. Pastikan Anda menggunakan dataframe yang sudah melalui processing sesuai dengan levelnya (Basic, Skilled, Advanced)\n",
        "2. Melakukan visualisasi Elbow Method untuk menentukan jumlah cluster terbaik menggunakan `KElbowVisualizer()`.\n",
        "3. Menggunakan algoritma K-Means Clustering dengan `sklearn.cluster.KMeans()`.\n",
        "4. Jalankan cell code `joblib.dump(model_kmeans, \"best_model_clustering.h5\")` untuk menyimpan model yang sudah dibuat."
      ],
      "metadata": {
        "id": "Fkd_QHXWMBDr"
      }
    },
    {
      "cell_type": "code",
      "source": [
        "df.describe()"
      ],
      "metadata": {
        "id": "hYHmRnb42A1P",
        "colab": {
          "base_uri": "https://localhost:8080/",
          "height": 300
        },
        "outputId": "b671368f-1f36-40e7-a0f2-54be7045636b"
      },
      "execution_count": 25,
      "outputs": [
        {
          "output_type": "execute_result",
          "data": {
            "text/plain": [
              "       TransactionAmount  TransactionType     Location      Channel  \\\n",
              "count        2537.000000      2537.000000  2537.000000  2537.000000   \n",
              "mean          296.772073         0.777296    20.964525     0.988175   \n",
              "std           290.858415         0.416143    12.196453     0.804572   \n",
              "min             0.260000         0.000000     0.000000     0.000000   \n",
              "25%            83.070000         1.000000    11.000000     0.000000   \n",
              "50%           211.360000         1.000000    21.000000     1.000000   \n",
              "75%           409.610000         1.000000    31.000000     2.000000   \n",
              "max          1919.110000         1.000000    42.000000     2.000000   \n",
              "\n",
              "       CustomerAge  CustomerOccupation  TransactionDuration  LoginAttempts  \\\n",
              "count  2537.000000         2537.000000          2537.000000    2537.000000   \n",
              "mean     44.680725            1.521876           119.346866       1.120615   \n",
              "std      17.773964            1.133626            69.722362       0.592105   \n",
              "min      18.000000            0.000000            10.000000       1.000000   \n",
              "25%      27.000000            1.000000            63.000000       1.000000   \n",
              "50%      45.000000            2.000000           112.000000       1.000000   \n",
              "75%      59.000000            3.000000           161.000000       1.000000   \n",
              "max      80.000000            3.000000           300.000000       5.000000   \n",
              "\n",
              "       AccountBalance  \n",
              "count     2537.000000  \n",
              "mean      5109.401127  \n",
              "std       3877.365521  \n",
              "min        101.250000  \n",
              "25%       1519.350000  \n",
              "50%       4734.110000  \n",
              "75%       7627.040000  \n",
              "max      14977.990000  "
            ],
            "text/html": [
              "\n",
              "  <div id=\"df-8e2e1bba-1ab3-4ad0-9840-a2262f9d44b9\" class=\"colab-df-container\">\n",
              "    <div>\n",
              "<style scoped>\n",
              "    .dataframe tbody tr th:only-of-type {\n",
              "        vertical-align: middle;\n",
              "    }\n",
              "\n",
              "    .dataframe tbody tr th {\n",
              "        vertical-align: top;\n",
              "    }\n",
              "\n",
              "    .dataframe thead th {\n",
              "        text-align: right;\n",
              "    }\n",
              "</style>\n",
              "<table border=\"1\" class=\"dataframe\">\n",
              "  <thead>\n",
              "    <tr style=\"text-align: right;\">\n",
              "      <th></th>\n",
              "      <th>TransactionAmount</th>\n",
              "      <th>TransactionType</th>\n",
              "      <th>Location</th>\n",
              "      <th>Channel</th>\n",
              "      <th>CustomerAge</th>\n",
              "      <th>CustomerOccupation</th>\n",
              "      <th>TransactionDuration</th>\n",
              "      <th>LoginAttempts</th>\n",
              "      <th>AccountBalance</th>\n",
              "    </tr>\n",
              "  </thead>\n",
              "  <tbody>\n",
              "    <tr>\n",
              "      <th>count</th>\n",
              "      <td>2537.000000</td>\n",
              "      <td>2537.000000</td>\n",
              "      <td>2537.000000</td>\n",
              "      <td>2537.000000</td>\n",
              "      <td>2537.000000</td>\n",
              "      <td>2537.000000</td>\n",
              "      <td>2537.000000</td>\n",
              "      <td>2537.000000</td>\n",
              "      <td>2537.000000</td>\n",
              "    </tr>\n",
              "    <tr>\n",
              "      <th>mean</th>\n",
              "      <td>296.772073</td>\n",
              "      <td>0.777296</td>\n",
              "      <td>20.964525</td>\n",
              "      <td>0.988175</td>\n",
              "      <td>44.680725</td>\n",
              "      <td>1.521876</td>\n",
              "      <td>119.346866</td>\n",
              "      <td>1.120615</td>\n",
              "      <td>5109.401127</td>\n",
              "    </tr>\n",
              "    <tr>\n",
              "      <th>std</th>\n",
              "      <td>290.858415</td>\n",
              "      <td>0.416143</td>\n",
              "      <td>12.196453</td>\n",
              "      <td>0.804572</td>\n",
              "      <td>17.773964</td>\n",
              "      <td>1.133626</td>\n",
              "      <td>69.722362</td>\n",
              "      <td>0.592105</td>\n",
              "      <td>3877.365521</td>\n",
              "    </tr>\n",
              "    <tr>\n",
              "      <th>min</th>\n",
              "      <td>0.260000</td>\n",
              "      <td>0.000000</td>\n",
              "      <td>0.000000</td>\n",
              "      <td>0.000000</td>\n",
              "      <td>18.000000</td>\n",
              "      <td>0.000000</td>\n",
              "      <td>10.000000</td>\n",
              "      <td>1.000000</td>\n",
              "      <td>101.250000</td>\n",
              "    </tr>\n",
              "    <tr>\n",
              "      <th>25%</th>\n",
              "      <td>83.070000</td>\n",
              "      <td>1.000000</td>\n",
              "      <td>11.000000</td>\n",
              "      <td>0.000000</td>\n",
              "      <td>27.000000</td>\n",
              "      <td>1.000000</td>\n",
              "      <td>63.000000</td>\n",
              "      <td>1.000000</td>\n",
              "      <td>1519.350000</td>\n",
              "    </tr>\n",
              "    <tr>\n",
              "      <th>50%</th>\n",
              "      <td>211.360000</td>\n",
              "      <td>1.000000</td>\n",
              "      <td>21.000000</td>\n",
              "      <td>1.000000</td>\n",
              "      <td>45.000000</td>\n",
              "      <td>2.000000</td>\n",
              "      <td>112.000000</td>\n",
              "      <td>1.000000</td>\n",
              "      <td>4734.110000</td>\n",
              "    </tr>\n",
              "    <tr>\n",
              "      <th>75%</th>\n",
              "      <td>409.610000</td>\n",
              "      <td>1.000000</td>\n",
              "      <td>31.000000</td>\n",
              "      <td>2.000000</td>\n",
              "      <td>59.000000</td>\n",
              "      <td>3.000000</td>\n",
              "      <td>161.000000</td>\n",
              "      <td>1.000000</td>\n",
              "      <td>7627.040000</td>\n",
              "    </tr>\n",
              "    <tr>\n",
              "      <th>max</th>\n",
              "      <td>1919.110000</td>\n",
              "      <td>1.000000</td>\n",
              "      <td>42.000000</td>\n",
              "      <td>2.000000</td>\n",
              "      <td>80.000000</td>\n",
              "      <td>3.000000</td>\n",
              "      <td>300.000000</td>\n",
              "      <td>5.000000</td>\n",
              "      <td>14977.990000</td>\n",
              "    </tr>\n",
              "  </tbody>\n",
              "</table>\n",
              "</div>\n",
              "    <div class=\"colab-df-buttons\">\n",
              "\n",
              "  <div class=\"colab-df-container\">\n",
              "    <button class=\"colab-df-convert\" onclick=\"convertToInteractive('df-8e2e1bba-1ab3-4ad0-9840-a2262f9d44b9')\"\n",
              "            title=\"Convert this dataframe to an interactive table.\"\n",
              "            style=\"display:none;\">\n",
              "\n",
              "  <svg xmlns=\"http://www.w3.org/2000/svg\" height=\"24px\" viewBox=\"0 -960 960 960\">\n",
              "    <path d=\"M120-120v-720h720v720H120Zm60-500h600v-160H180v160Zm220 220h160v-160H400v160Zm0 220h160v-160H400v160ZM180-400h160v-160H180v160Zm440 0h160v-160H620v160ZM180-180h160v-160H180v160Zm440 0h160v-160H620v160Z\"/>\n",
              "  </svg>\n",
              "    </button>\n",
              "\n",
              "  <style>\n",
              "    .colab-df-container {\n",
              "      display:flex;\n",
              "      gap: 12px;\n",
              "    }\n",
              "\n",
              "    .colab-df-convert {\n",
              "      background-color: #E8F0FE;\n",
              "      border: none;\n",
              "      border-radius: 50%;\n",
              "      cursor: pointer;\n",
              "      display: none;\n",
              "      fill: #1967D2;\n",
              "      height: 32px;\n",
              "      padding: 0 0 0 0;\n",
              "      width: 32px;\n",
              "    }\n",
              "\n",
              "    .colab-df-convert:hover {\n",
              "      background-color: #E2EBFA;\n",
              "      box-shadow: 0px 1px 2px rgba(60, 64, 67, 0.3), 0px 1px 3px 1px rgba(60, 64, 67, 0.15);\n",
              "      fill: #174EA6;\n",
              "    }\n",
              "\n",
              "    .colab-df-buttons div {\n",
              "      margin-bottom: 4px;\n",
              "    }\n",
              "\n",
              "    [theme=dark] .colab-df-convert {\n",
              "      background-color: #3B4455;\n",
              "      fill: #D2E3FC;\n",
              "    }\n",
              "\n",
              "    [theme=dark] .colab-df-convert:hover {\n",
              "      background-color: #434B5C;\n",
              "      box-shadow: 0px 1px 3px 1px rgba(0, 0, 0, 0.15);\n",
              "      filter: drop-shadow(0px 1px 2px rgba(0, 0, 0, 0.3));\n",
              "      fill: #FFFFFF;\n",
              "    }\n",
              "  </style>\n",
              "\n",
              "    <script>\n",
              "      const buttonEl =\n",
              "        document.querySelector('#df-8e2e1bba-1ab3-4ad0-9840-a2262f9d44b9 button.colab-df-convert');\n",
              "      buttonEl.style.display =\n",
              "        google.colab.kernel.accessAllowed ? 'block' : 'none';\n",
              "\n",
              "      async function convertToInteractive(key) {\n",
              "        const element = document.querySelector('#df-8e2e1bba-1ab3-4ad0-9840-a2262f9d44b9');\n",
              "        const dataTable =\n",
              "          await google.colab.kernel.invokeFunction('convertToInteractive',\n",
              "                                                    [key], {});\n",
              "        if (!dataTable) return;\n",
              "\n",
              "        const docLinkHtml = 'Like what you see? Visit the ' +\n",
              "          '<a target=\"_blank\" href=https://colab.research.google.com/notebooks/data_table.ipynb>data table notebook</a>'\n",
              "          + ' to learn more about interactive tables.';\n",
              "        element.innerHTML = '';\n",
              "        dataTable['output_type'] = 'display_data';\n",
              "        await google.colab.output.renderOutput(dataTable, element);\n",
              "        const docLink = document.createElement('div');\n",
              "        docLink.innerHTML = docLinkHtml;\n",
              "        element.appendChild(docLink);\n",
              "      }\n",
              "    </script>\n",
              "  </div>\n",
              "\n",
              "\n",
              "    <div id=\"df-dd302a57-a4e5-4198-9279-3c9f8c088933\">\n",
              "      <button class=\"colab-df-quickchart\" onclick=\"quickchart('df-dd302a57-a4e5-4198-9279-3c9f8c088933')\"\n",
              "                title=\"Suggest charts\"\n",
              "                style=\"display:none;\">\n",
              "\n",
              "<svg xmlns=\"http://www.w3.org/2000/svg\" height=\"24px\"viewBox=\"0 0 24 24\"\n",
              "     width=\"24px\">\n",
              "    <g>\n",
              "        <path d=\"M19 3H5c-1.1 0-2 .9-2 2v14c0 1.1.9 2 2 2h14c1.1 0 2-.9 2-2V5c0-1.1-.9-2-2-2zM9 17H7v-7h2v7zm4 0h-2V7h2v10zm4 0h-2v-4h2v4z\"/>\n",
              "    </g>\n",
              "</svg>\n",
              "      </button>\n",
              "\n",
              "<style>\n",
              "  .colab-df-quickchart {\n",
              "      --bg-color: #E8F0FE;\n",
              "      --fill-color: #1967D2;\n",
              "      --hover-bg-color: #E2EBFA;\n",
              "      --hover-fill-color: #174EA6;\n",
              "      --disabled-fill-color: #AAA;\n",
              "      --disabled-bg-color: #DDD;\n",
              "  }\n",
              "\n",
              "  [theme=dark] .colab-df-quickchart {\n",
              "      --bg-color: #3B4455;\n",
              "      --fill-color: #D2E3FC;\n",
              "      --hover-bg-color: #434B5C;\n",
              "      --hover-fill-color: #FFFFFF;\n",
              "      --disabled-bg-color: #3B4455;\n",
              "      --disabled-fill-color: #666;\n",
              "  }\n",
              "\n",
              "  .colab-df-quickchart {\n",
              "    background-color: var(--bg-color);\n",
              "    border: none;\n",
              "    border-radius: 50%;\n",
              "    cursor: pointer;\n",
              "    display: none;\n",
              "    fill: var(--fill-color);\n",
              "    height: 32px;\n",
              "    padding: 0;\n",
              "    width: 32px;\n",
              "  }\n",
              "\n",
              "  .colab-df-quickchart:hover {\n",
              "    background-color: var(--hover-bg-color);\n",
              "    box-shadow: 0 1px 2px rgba(60, 64, 67, 0.3), 0 1px 3px 1px rgba(60, 64, 67, 0.15);\n",
              "    fill: var(--button-hover-fill-color);\n",
              "  }\n",
              "\n",
              "  .colab-df-quickchart-complete:disabled,\n",
              "  .colab-df-quickchart-complete:disabled:hover {\n",
              "    background-color: var(--disabled-bg-color);\n",
              "    fill: var(--disabled-fill-color);\n",
              "    box-shadow: none;\n",
              "  }\n",
              "\n",
              "  .colab-df-spinner {\n",
              "    border: 2px solid var(--fill-color);\n",
              "    border-color: transparent;\n",
              "    border-bottom-color: var(--fill-color);\n",
              "    animation:\n",
              "      spin 1s steps(1) infinite;\n",
              "  }\n",
              "\n",
              "  @keyframes spin {\n",
              "    0% {\n",
              "      border-color: transparent;\n",
              "      border-bottom-color: var(--fill-color);\n",
              "      border-left-color: var(--fill-color);\n",
              "    }\n",
              "    20% {\n",
              "      border-color: transparent;\n",
              "      border-left-color: var(--fill-color);\n",
              "      border-top-color: var(--fill-color);\n",
              "    }\n",
              "    30% {\n",
              "      border-color: transparent;\n",
              "      border-left-color: var(--fill-color);\n",
              "      border-top-color: var(--fill-color);\n",
              "      border-right-color: var(--fill-color);\n",
              "    }\n",
              "    40% {\n",
              "      border-color: transparent;\n",
              "      border-right-color: var(--fill-color);\n",
              "      border-top-color: var(--fill-color);\n",
              "    }\n",
              "    60% {\n",
              "      border-color: transparent;\n",
              "      border-right-color: var(--fill-color);\n",
              "    }\n",
              "    80% {\n",
              "      border-color: transparent;\n",
              "      border-right-color: var(--fill-color);\n",
              "      border-bottom-color: var(--fill-color);\n",
              "    }\n",
              "    90% {\n",
              "      border-color: transparent;\n",
              "      border-bottom-color: var(--fill-color);\n",
              "    }\n",
              "  }\n",
              "</style>\n",
              "\n",
              "      <script>\n",
              "        async function quickchart(key) {\n",
              "          const quickchartButtonEl =\n",
              "            document.querySelector('#' + key + ' button');\n",
              "          quickchartButtonEl.disabled = true;  // To prevent multiple clicks.\n",
              "          quickchartButtonEl.classList.add('colab-df-spinner');\n",
              "          try {\n",
              "            const charts = await google.colab.kernel.invokeFunction(\n",
              "                'suggestCharts', [key], {});\n",
              "          } catch (error) {\n",
              "            console.error('Error during call to suggestCharts:', error);\n",
              "          }\n",
              "          quickchartButtonEl.classList.remove('colab-df-spinner');\n",
              "          quickchartButtonEl.classList.add('colab-df-quickchart-complete');\n",
              "        }\n",
              "        (() => {\n",
              "          let quickchartButtonEl =\n",
              "            document.querySelector('#df-dd302a57-a4e5-4198-9279-3c9f8c088933 button');\n",
              "          quickchartButtonEl.style.display =\n",
              "            google.colab.kernel.accessAllowed ? 'block' : 'none';\n",
              "        })();\n",
              "      </script>\n",
              "    </div>\n",
              "\n",
              "    </div>\n",
              "  </div>\n"
            ],
            "application/vnd.google.colaboratory.intrinsic+json": {
              "type": "dataframe",
              "summary": "{\n  \"name\": \"df\",\n  \"rows\": 8,\n  \"fields\": [\n    {\n      \"column\": \"TransactionAmount\",\n      \"properties\": {\n        \"dtype\": \"number\",\n        \"std\": 954.7911054322392,\n        \"min\": 0.26,\n        \"max\": 2537.0,\n        \"num_unique_values\": 8,\n        \"samples\": [\n          296.7720733149389,\n          211.36,\n          2537.0\n        ],\n        \"semantic_type\": \"\",\n        \"description\": \"\"\n      }\n    },\n    {\n      \"column\": \"TransactionType\",\n      \"properties\": {\n        \"dtype\": \"number\",\n        \"std\": 896.7027172649175,\n        \"min\": 0.0,\n        \"max\": 2537.0,\n        \"num_unique_values\": 5,\n        \"samples\": [\n          0.7772960189199842,\n          1.0,\n          0.4161432177950283\n        ],\n        \"semantic_type\": \"\",\n        \"description\": \"\"\n      }\n    },\n    {\n      \"column\": \"Location\",\n      \"properties\": {\n        \"dtype\": \"number\",\n        \"std\": 890.0789276632519,\n        \"min\": 0.0,\n        \"max\": 2537.0,\n        \"num_unique_values\": 8,\n        \"samples\": [\n          20.964525029562477,\n          21.0,\n          2537.0\n        ],\n        \"semantic_type\": \"\",\n        \"description\": \"\"\n      }\n    },\n    {\n      \"column\": \"Channel\",\n      \"properties\": {\n        \"dtype\": \"number\",\n        \"std\": 896.622187611427,\n        \"min\": 0.0,\n        \"max\": 2537.0,\n        \"num_unique_values\": 6,\n        \"samples\": [\n          2537.0,\n          0.9881750098541584,\n          2.0\n        ],\n        \"semantic_type\": \"\",\n        \"description\": \"\"\n      }\n    },\n    {\n      \"column\": \"CustomerAge\",\n      \"properties\": {\n        \"dtype\": \"number\",\n        \"std\": 882.4981416291085,\n        \"min\": 17.77396400129158,\n        \"max\": 2537.0,\n        \"num_unique_values\": 8,\n        \"samples\": [\n          44.680725266062275,\n          45.0,\n          2537.0\n        ],\n        \"semantic_type\": \"\",\n        \"description\": \"\"\n      }\n    },\n    {\n      \"column\": \"CustomerOccupation\",\n      \"properties\": {\n        \"dtype\": \"number\",\n        \"std\": 896.3768334115624,\n        \"min\": 0.0,\n        \"max\": 2537.0,\n        \"num_unique_values\": 7,\n        \"samples\": [\n          2537.0,\n          1.521876231769807,\n          2.0\n        ],\n        \"semantic_type\": \"\",\n        \"description\": \"\"\n      }\n    },\n    {\n      \"column\": \"TransactionDuration\",\n      \"properties\": {\n        \"dtype\": \"number\",\n        \"std\": 859.1234338733469,\n        \"min\": 10.0,\n        \"max\": 2537.0,\n        \"num_unique_values\": 8,\n        \"samples\": [\n          119.34686637761135,\n          112.0,\n          2537.0\n        ],\n        \"semantic_type\": \"\",\n        \"description\": \"\"\n      }\n    },\n    {\n      \"column\": \"LoginAttempts\",\n      \"properties\": {\n        \"dtype\": \"number\",\n        \"std\": 896.4250102896164,\n        \"min\": 0.5921049444842222,\n        \"max\": 2537.0,\n        \"num_unique_values\": 5,\n        \"samples\": [\n          1.1206148994875837,\n          5.0,\n          0.5921049444842222\n        ],\n        \"semantic_type\": \"\",\n        \"description\": \"\"\n      }\n    },\n    {\n      \"column\": \"AccountBalance\",\n      \"properties\": {\n        \"dtype\": \"number\",\n        \"std\": 4628.3971388323935,\n        \"min\": 101.25,\n        \"max\": 14977.99,\n        \"num_unique_values\": 8,\n        \"samples\": [\n          5109.4011273157275,\n          4734.110000000001,\n          2537.0\n        ],\n        \"semantic_type\": \"\",\n        \"description\": \"\"\n      }\n    }\n  ]\n}"
            }
          },
          "metadata": {},
          "execution_count": 25
        }
      ]
    },
    {
      "cell_type": "code",
      "source": [
        "kmeans = KMeans(random_state=42)\n",
        "visualizer = KElbowVisualizer(kmeans, k=(1, 11))\n",
        "visualizer.fit(scaled_features)\n",
        "visualizer.show()"
      ],
      "metadata": {
        "id": "hgYvwWOzM93L",
        "colab": {
          "base_uri": "https://localhost:8080/",
          "height": 541
        },
        "outputId": "9ea88d21-f730-4ab6-bb4d-5e36b7067f7e"
      },
      "execution_count": 26,
      "outputs": [
        {
          "output_type": "display_data",
          "data": {
            "text/plain": [
              "<Figure size 800x550 with 2 Axes>"
            ],
            "image/png": "[encoded data removed]"
          },
          "metadata": {}
        },
        {
          "output_type": "execute_result",
          "data": {
            "text/plain": [
              "<Axes: title={'center': 'Distortion Score Elbow for KMeans Clustering'}, xlabel='k', ylabel='distortion score'>"
            ]
          },
          "metadata": {},
          "execution_count": 26
        }
      ]
    },
    {
      "cell_type": "code",
      "source": [
        "optimal_k = 4\n",
        "kmeans = KMeans(n_clusters=optimal_k, random_state=42)\n",
        "df['Cluster'] = kmeans.fit_predict(scaled_features)"
      ],
      "metadata": {
        "id": "HvngRg-r4EcL"
      },
      "execution_count": 27,
      "outputs": []
    },
    {
      "cell_type": "code",
      "source": [
        "df.head()"
      ],
      "metadata": {
        "colab": {
          "base_uri": "https://localhost:8080/",
          "height": 206
        },
        "id": "6BLrh9HHAWGL",
        "outputId": "2d253672-d457-48e6-f3cc-41d3f6463196"
      },
      "execution_count": 28,
      "outputs": [
        {
          "output_type": "execute_result",
          "data": {
            "text/plain": [
              "   TransactionAmount      TransactionDate  TransactionType  Location  Channel  \\\n",
              "0              14.09  2023-04-11 16:29:14                1        36        0   \n",
              "1             376.24  2023-06-27 16:44:19                1        15        0   \n",
              "2             126.29  2023-07-10 18:16:08                1        23        2   \n",
              "3             184.50  2023-05-05 16:32:11                1        33        2   \n",
              "4              13.45  2023-10-16 17:51:24                0         1        2   \n",
              "\n",
              "   CustomerAge  CustomerOccupation  TransactionDuration  LoginAttempts  \\\n",
              "0         70.0                   0                 81.0            1.0   \n",
              "1         68.0                   0                141.0            1.0   \n",
              "2         19.0                   3                 56.0            1.0   \n",
              "3         26.0                   3                 25.0            1.0   \n",
              "4         45.0                   3                198.0            1.0   \n",
              "\n",
              "   AccountBalance PreviousTransactionDate  Cluster  \n",
              "0         5112.21     2024-11-04 08:08:08        2  \n",
              "1        13758.91     2024-11-04 08:09:35        3  \n",
              "2         1122.35     2024-11-04 08:07:04        0  \n",
              "3         8569.06     2024-11-04 08:09:06        3  \n",
              "4         7429.40     2024-11-04 08:06:39        1  "
            ],
            "text/html": [
              "\n",
              "  <div id=\"df-91dd8572-59f0-432c-bf09-0efb91dcc848\" class=\"colab-df-container\">\n",
              "    <div>\n",
              "<style scoped>\n",
              "    .dataframe tbody tr th:only-of-type {\n",
              "        vertical-align: middle;\n",
              "    }\n",
              "\n",
              "    .dataframe tbody tr th {\n",
              "        vertical-align: top;\n",
              "    }\n",
              "\n",
              "    .dataframe thead th {\n",
              "        text-align: right;\n",
              "    }\n",
              "</style>\n",
              "<table border=\"1\" class=\"dataframe\">\n",
              "  <thead>\n",
              "    <tr style=\"text-align: right;\">\n",
              "      <th></th>\n",
              "      <th>TransactionAmount</th>\n",
              "      <th>TransactionDate</th>\n",
              "      <th>TransactionType</th>\n",
              "      <th>Location</th>\n",
              "      <th>Channel</th>\n",
              "      <th>CustomerAge</th>\n",
              "      <th>CustomerOccupation</th>\n",
              "      <th>TransactionDuration</th>\n",
              "      <th>LoginAttempts</th>\n",
              "      <th>AccountBalance</th>\n",
              "      <th>PreviousTransactionDate</th>\n",
              "      <th>Cluster</th>\n",
              "    </tr>\n",
              "  </thead>\n",
              "  <tbody>\n",
              "    <tr>\n",
              "      <th>0</th>\n",
              "      <td>14.09</td>\n",
              "      <td>2023-04-11 16:29:14</td>\n",
              "      <td>1</td>\n",
              "      <td>36</td>\n",
              "      <td>0</td>\n",
              "      <td>70.0</td>\n",
              "      <td>0</td>\n",
              "      <td>81.0</td>\n",
              "      <td>1.0</td>\n",
              "      <td>5112.21</td>\n",
              "      <td>2024-11-04 08:08:08</td>\n",
              "      <td>2</td>\n",
              "    </tr>\n",
              "    <tr>\n",
              "      <th>1</th>\n",
              "      <td>376.24</td>\n",
              "      <td>2023-06-27 16:44:19</td>\n",
              "      <td>1</td>\n",
              "      <td>15</td>\n",
              "      <td>0</td>\n",
              "      <td>68.0</td>\n",
              "      <td>0</td>\n",
              "      <td>141.0</td>\n",
              "      <td>1.0</td>\n",
              "      <td>13758.91</td>\n",
              "      <td>2024-11-04 08:09:35</td>\n",
              "      <td>3</td>\n",
              "    </tr>\n",
              "    <tr>\n",
              "      <th>2</th>\n",
              "      <td>126.29</td>\n",
              "      <td>2023-07-10 18:16:08</td>\n",
              "      <td>1</td>\n",
              "      <td>23</td>\n",
              "      <td>2</td>\n",
              "      <td>19.0</td>\n",
              "      <td>3</td>\n",
              "      <td>56.0</td>\n",
              "      <td>1.0</td>\n",
              "      <td>1122.35</td>\n",
              "      <td>2024-11-04 08:07:04</td>\n",
              "      <td>0</td>\n",
              "    </tr>\n",
              "    <tr>\n",
              "      <th>3</th>\n",
              "      <td>184.50</td>\n",
              "      <td>2023-05-05 16:32:11</td>\n",
              "      <td>1</td>\n",
              "      <td>33</td>\n",
              "      <td>2</td>\n",
              "      <td>26.0</td>\n",
              "      <td>3</td>\n",
              "      <td>25.0</td>\n",
              "      <td>1.0</td>\n",
              "      <td>8569.06</td>\n",
              "      <td>2024-11-04 08:09:06</td>\n",
              "      <td>3</td>\n",
              "    </tr>\n",
              "    <tr>\n",
              "      <th>4</th>\n",
              "      <td>13.45</td>\n",
              "      <td>2023-10-16 17:51:24</td>\n",
              "      <td>0</td>\n",
              "      <td>1</td>\n",
              "      <td>2</td>\n",
              "      <td>45.0</td>\n",
              "      <td>3</td>\n",
              "      <td>198.0</td>\n",
              "      <td>1.0</td>\n",
              "      <td>7429.40</td>\n",
              "      <td>2024-11-04 08:06:39</td>\n",
              "      <td>1</td>\n",
              "    </tr>\n",
              "  </tbody>\n",
              "</table>\n",
              "</div>\n",
              "    <div class=\"colab-df-buttons\">\n",
              "\n",
              "  <div class=\"colab-df-container\">\n",
              "    <button class=\"colab-df-convert\" onclick=\"convertToInteractive('df-91dd8572-59f0-432c-bf09-0efb91dcc848')\"\n",
              "            title=\"Convert this dataframe to an interactive table.\"\n",
              "            style=\"display:none;\">\n",
              "\n",
              "  <svg xmlns=\"http://www.w3.org/2000/svg\" height=\"24px\" viewBox=\"0 -960 960 960\">\n",
              "    <path d=\"M120-120v-720h720v720H120Zm60-500h600v-160H180v160Zm220 220h160v-160H400v160Zm0 220h160v-160H400v160ZM180-400h160v-160H180v160Zm440 0h160v-160H620v160ZM180-180h160v-160H180v160Zm440 0h160v-160H620v160Z\"/>\n",
              "  </svg>\n",
              "    </button>\n",
              "\n",
              "  <style>\n",
              "    .colab-df-container {\n",
              "      display:flex;\n",
              "      gap: 12px;\n",
              "    }\n",
              "\n",
              "    .colab-df-convert {\n",
              "      background-color: #E8F0FE;\n",
              "      border: none;\n",
              "      border-radius: 50%;\n",
              "      cursor: pointer;\n",
              "      display: none;\n",
              "      fill: #1967D2;\n",
              "      height: 32px;\n",
              "      padding: 0 0 0 0;\n",
              "      width: 32px;\n",
              "    }\n",
              "\n",
              "    .colab-df-convert:hover {\n",
              "      background-color: #E2EBFA;\n",
              "      box-shadow: 0px 1px 2px rgba(60, 64, 67, 0.3), 0px 1px 3px 1px rgba(60, 64, 67, 0.15);\n",
              "      fill: #174EA6;\n",
              "    }\n",
              "\n",
              "    .colab-df-buttons div {\n",
              "      margin-bottom: 4px;\n",
              "    }\n",
              "\n",
              "    [theme=dark] .colab-df-convert {\n",
              "      background-color: #3B4455;\n",
              "      fill: #D2E3FC;\n",
              "    }\n",
              "\n",
              "    [theme=dark] .colab-df-convert:hover {\n",
              "      background-color: #434B5C;\n",
              "      box-shadow: 0px 1px 3px 1px rgba(0, 0, 0, 0.15);\n",
              "      filter: drop-shadow(0px 1px 2px rgba(0, 0, 0, 0.3));\n",
              "      fill: #FFFFFF;\n",
              "    }\n",
              "  </style>\n",
              "\n",
              "    <script>\n",
              "      const buttonEl =\n",
              "        document.querySelector('#df-91dd8572-59f0-432c-bf09-0efb91dcc848 button.colab-df-convert');\n",
              "      buttonEl.style.display =\n",
              "        google.colab.kernel.accessAllowed ? 'block' : 'none';\n",
              "\n",
              "      async function convertToInteractive(key) {\n",
              "        const element = document.querySelector('#df-91dd8572-59f0-432c-bf09-0efb91dcc848');\n",
              "        const dataTable =\n",
              "          await google.colab.kernel.invokeFunction('convertToInteractive',\n",
              "                                                    [key], {});\n",
              "        if (!dataTable) return;\n",
              "\n",
              "        const docLinkHtml = 'Like what you see? Visit the ' +\n",
              "          '<a target=\"_blank\" href=https://colab.research.google.com/notebooks/data_table.ipynb>data table notebook</a>'\n",
              "          + ' to learn more about interactive tables.';\n",
              "        element.innerHTML = '';\n",
              "        dataTable['output_type'] = 'display_data';\n",
              "        await google.colab.output.renderOutput(dataTable, element);\n",
              "        const docLink = document.createElement('div');\n",
              "        docLink.innerHTML = docLinkHtml;\n",
              "        element.appendChild(docLink);\n",
              "      }\n",
              "    </script>\n",
              "  </div>\n",
              "\n",
              "\n",
              "    <div id=\"df-1c57538b-2c17-4990-8e47-fc7dac1c61bd\">\n",
              "      <button class=\"colab-df-quickchart\" onclick=\"quickchart('df-1c57538b-2c17-4990-8e47-fc7dac1c61bd')\"\n",
              "                title=\"Suggest charts\"\n",
              "                style=\"display:none;\">\n",
              "\n",
              "<svg xmlns=\"http://www.w3.org/2000/svg\" height=\"24px\"viewBox=\"0 0 24 24\"\n",
              "     width=\"24px\">\n",
              "    <g>\n",
              "        <path d=\"M19 3H5c-1.1 0-2 .9-2 2v14c0 1.1.9 2 2 2h14c1.1 0 2-.9 2-2V5c0-1.1-.9-2-2-2zM9 17H7v-7h2v7zm4 0h-2V7h2v10zm4 0h-2v-4h2v4z\"/>\n",
              "    </g>\n",
              "</svg>\n",
              "      </button>\n",
              "\n",
              "<style>\n",
              "  .colab-df-quickchart {\n",
              "      --bg-color: #E8F0FE;\n",
              "      --fill-color: #1967D2;\n",
              "      --hover-bg-color: #E2EBFA;\n",
              "      --hover-fill-color: #174EA6;\n",
              "      --disabled-fill-color: #AAA;\n",
              "      --disabled-bg-color: #DDD;\n",
              "  }\n",
              "\n",
              "  [theme=dark] .colab-df-quickchart {\n",
              "      --bg-color: #3B4455;\n",
              "      --fill-color: #D2E3FC;\n",
              "      --hover-bg-color: #434B5C;\n",
              "      --hover-fill-color: #FFFFFF;\n",
              "      --disabled-bg-color: #3B4455;\n",
              "      --disabled-fill-color: #666;\n",
              "  }\n",
              "\n",
              "  .colab-df-quickchart {\n",
              "    background-color: var(--bg-color);\n",
              "    border: none;\n",
              "    border-radius: 50%;\n",
              "    cursor: pointer;\n",
              "    display: none;\n",
              "    fill: var(--fill-color);\n",
              "    height: 32px;\n",
              "    padding: 0;\n",
              "    width: 32px;\n",
              "  }\n",
              "\n",
              "  .colab-df-quickchart:hover {\n",
              "    background-color: var(--hover-bg-color);\n",
              "    box-shadow: 0 1px 2px rgba(60, 64, 67, 0.3), 0 1px 3px 1px rgba(60, 64, 67, 0.15);\n",
              "    fill: var(--button-hover-fill-color);\n",
              "  }\n",
              "\n",
              "  .colab-df-quickchart-complete:disabled,\n",
              "  .colab-df-quickchart-complete:disabled:hover {\n",
              "    background-color: var(--disabled-bg-color);\n",
              "    fill: var(--disabled-fill-color);\n",
              "    box-shadow: none;\n",
              "  }\n",
              "\n",
              "  .colab-df-spinner {\n",
              "    border: 2px solid var(--fill-color);\n",
              "    border-color: transparent;\n",
              "    border-bottom-color: var(--fill-color);\n",
              "    animation:\n",
              "      spin 1s steps(1) infinite;\n",
              "  }\n",
              "\n",
              "  @keyframes spin {\n",
              "    0% {\n",
              "      border-color: transparent;\n",
              "      border-bottom-color: var(--fill-color);\n",
              "      border-left-color: var(--fill-color);\n",
              "    }\n",
              "    20% {\n",
              "      border-color: transparent;\n",
              "      border-left-color: var(--fill-color);\n",
              "      border-top-color: var(--fill-color);\n",
              "    }\n",
              "    30% {\n",
              "      border-color: transparent;\n",
              "      border-left-color: var(--fill-color);\n",
              "      border-top-color: var(--fill-color);\n",
              "      border-right-color: var(--fill-color);\n",
              "    }\n",
              "    40% {\n",
              "      border-color: transparent;\n",
              "      border-right-color: var(--fill-color);\n",
              "      border-top-color: var(--fill-color);\n",
              "    }\n",
              "    60% {\n",
              "      border-color: transparent;\n",
              "      border-right-color: var(--fill-color);\n",
              "    }\n",
              "    80% {\n",
              "      border-color: transparent;\n",
              "      border-right-color: var(--fill-color);\n",
              "      border-bottom-color: var(--fill-color);\n",
              "    }\n",
              "    90% {\n",
              "      border-color: transparent;\n",
              "      border-bottom-color: var(--fill-color);\n",
              "    }\n",
              "  }\n",
              "</style>\n",
              "\n",
              "      <script>\n",
              "        async function quickchart(key) {\n",
              "          const quickchartButtonEl =\n",
              "            document.querySelector('#' + key + ' button');\n",
              "          quickchartButtonEl.disabled = true;  // To prevent multiple clicks.\n",
              "          quickchartButtonEl.classList.add('colab-df-spinner');\n",
              "          try {\n",
              "            const charts = await google.colab.kernel.invokeFunction(\n",
              "                'suggestCharts', [key], {});\n",
              "          } catch (error) {\n",
              "            console.error('Error during call to suggestCharts:', error);\n",
              "          }\n",
              "          quickchartButtonEl.classList.remove('colab-df-spinner');\n",
              "          quickchartButtonEl.classList.add('colab-df-quickchart-complete');\n",
              "        }\n",
              "        (() => {\n",
              "          let quickchartButtonEl =\n",
              "            document.querySelector('#df-1c57538b-2c17-4990-8e47-fc7dac1c61bd button');\n",
              "          quickchartButtonEl.style.display =\n",
              "            google.colab.kernel.accessAllowed ? 'block' : 'none';\n",
              "        })();\n",
              "      </script>\n",
              "    </div>\n",
              "\n",
              "    </div>\n",
              "  </div>\n"
            ],
            "application/vnd.google.colaboratory.intrinsic+json": {
              "type": "dataframe",
              "variable_name": "df",
              "summary": "{\n  \"name\": \"df\",\n  \"rows\": 2537,\n  \"fields\": [\n    {\n      \"column\": \"TransactionAmount\",\n      \"properties\": {\n        \"dtype\": \"number\",\n        \"std\": 290.85841543828064,\n        \"min\": 0.26,\n        \"max\": 1919.11,\n        \"num_unique_values\": 2433,\n        \"samples\": [\n          689.29,\n          879.25,\n          342.17\n        ],\n        \"semantic_type\": \"\",\n        \"description\": \"\"\n      }\n    },\n    {\n      \"column\": \"TransactionDate\",\n      \"properties\": {\n        \"dtype\": \"object\",\n        \"num_unique_values\": 2485,\n        \"samples\": [\n          \"2023-04-19 17:03:11\",\n          \"2023-01-12 17:58:56\",\n          \"2023-10-31 16:05:00\"\n        ],\n        \"semantic_type\": \"\",\n        \"description\": \"\"\n      }\n    },\n    {\n      \"column\": \"TransactionType\",\n      \"properties\": {\n        \"dtype\": \"number\",\n        \"std\": 0,\n        \"min\": 0,\n        \"max\": 1,\n        \"num_unique_values\": 2,\n        \"samples\": [\n          0,\n          1\n        ],\n        \"semantic_type\": \"\",\n        \"description\": \"\"\n      }\n    },\n    {\n      \"column\": \"Location\",\n      \"properties\": {\n        \"dtype\": \"number\",\n        \"std\": 12,\n        \"min\": 0,\n        \"max\": 42,\n        \"num_unique_values\": 43,\n        \"samples\": [\n          31,\n          38\n        ],\n        \"semantic_type\": \"\",\n        \"description\": \"\"\n      }\n    },\n    {\n      \"column\": \"Channel\",\n      \"properties\": {\n        \"dtype\": \"number\",\n        \"std\": 0,\n        \"min\": 0,\n        \"max\": 2,\n        \"num_unique_values\": 3,\n        \"samples\": [\n          0,\n          2\n        ],\n        \"semantic_type\": \"\",\n        \"description\": \"\"\n      }\n    },\n    {\n      \"column\": \"CustomerAge\",\n      \"properties\": {\n        \"dtype\": \"number\",\n        \"std\": 17.77396400129158,\n        \"min\": 18.0,\n        \"max\": 80.0,\n        \"num_unique_values\": 63,\n        \"samples\": [\n          73.0,\n          77.0\n        ],\n        \"semantic_type\": \"\",\n        \"description\": \"\"\n      }\n    },\n    {\n      \"column\": \"CustomerOccupation\",\n      \"properties\": {\n        \"dtype\": \"number\",\n        \"std\": 1,\n        \"min\": 0,\n        \"max\": 3,\n        \"num_unique_values\": 4,\n        \"samples\": [\n          3,\n          1\n        ],\n        \"semantic_type\": \"\",\n        \"description\": \"\"\n      }\n    },\n    {\n      \"column\": \"TransactionDuration\",\n      \"properties\": {\n        \"dtype\": \"number\",\n        \"std\": 69.72236163514911,\n        \"min\": 10.0,\n        \"max\": 300.0,\n        \"num_unique_values\": 288,\n        \"samples\": [\n          138.0,\n          42.0\n        ],\n        \"semantic_type\": \"\",\n        \"description\": \"\"\n      }\n    },\n    {\n      \"column\": \"LoginAttempts\",\n      \"properties\": {\n        \"dtype\": \"number\",\n        \"std\": 0.5921049444842222,\n        \"min\": 1.0,\n        \"max\": 5.0,\n        \"num_unique_values\": 5,\n        \"samples\": [\n          3.0,\n          4.0\n        ],\n        \"semantic_type\": \"\",\n        \"description\": \"\"\n      }\n    },\n    {\n      \"column\": \"AccountBalance\",\n      \"properties\": {\n        \"dtype\": \"number\",\n        \"std\": 3877.365521322758,\n        \"min\": 101.25,\n        \"max\": 14977.99,\n        \"num_unique_values\": 2484,\n        \"samples\": [\n          5579.11,\n          219.53\n        ],\n        \"semantic_type\": \"\",\n        \"description\": \"\"\n      }\n    },\n    {\n      \"column\": \"PreviousTransactionDate\",\n      \"properties\": {\n        \"dtype\": \"object\",\n        \"num_unique_values\": 360,\n        \"samples\": [\n          \"2024-11-04 08:11:30\",\n          \"2024-11-04 08:09:53\"\n        ],\n        \"semantic_type\": \"\",\n        \"description\": \"\"\n      }\n    },\n    {\n      \"column\": \"Cluster\",\n      \"properties\": {\n        \"dtype\": \"int32\",\n        \"num_unique_values\": 4,\n        \"samples\": [\n          3,\n          1\n        ],\n        \"semantic_type\": \"\",\n        \"description\": \"\"\n      }\n    }\n  ]\n}"
            }
          },
          "metadata": {},
          "execution_count": 28
        }
      ]
    },
    {
      "cell_type": "markdown",
      "source": [
        "Jalankan cell code ini untuk menyimpan model kamu."
      ],
      "metadata": {
        "id": "6aVHlHyU1Dcx"
      }
    },
    {
      "cell_type": "code",
      "source": [
        "joblib.dump(kmeans, \"model_clustering.h5\")"
      ],
      "metadata": {
        "id": "D7AvYmQnY_fI",
        "colab": {
          "base_uri": "https://localhost:8080/"
        },
        "outputId": "c3799058-0938-41ed-b44d-ade489a3f108"
      },
      "execution_count": 29,
      "outputs": [
        {
          "output_type": "execute_result",
          "data": {
            "text/plain": [
              "['model_clustering.h5']"
            ]
          },
          "metadata": {},
          "execution_count": 29
        }
      ]
    },
    {
      "cell_type": "markdown",
      "source": [
        "(Opsional) Membangun Model Clustering [Skilled]\n",
        "\n",
        "**Biarkan kosong jika tidak menerapkan kriteria skilled**"
      ],
      "metadata": {
        "id": "YDOD9eVMx3mC"
      }
    },
    {
      "cell_type": "code",
      "source": [
        "# Menghitung dan menampilkan nilai Silhouette Score."
      ],
      "metadata": {
        "id": "SELNsH5O4Oyn"
      },
      "execution_count": 30,
      "outputs": []
    },
    {
      "cell_type": "code",
      "source": [
        "# Membuat visualisasi hasil clustering"
      ],
      "metadata": {
        "id": "K4EbkaXg4QAN"
      },
      "execution_count": 31,
      "outputs": []
    },
    {
      "cell_type": "markdown",
      "source": [
        "(Opsional) Membangun Model Clustering [Advanced]\n",
        "\n",
        "**Biarkan kosong jika tidak menerapkan kriteria advanced**"
      ],
      "metadata": {
        "id": "uloMRbnsyAbB"
      }
    },
    {
      "cell_type": "code",
      "source": [
        "# Membangun model menggunakan PCA."
      ],
      "metadata": {
        "id": "SgfOarXX4SD2"
      },
      "execution_count": 32,
      "outputs": []
    },
    {
      "cell_type": "code",
      "source": [
        "# Simpan model PCA sebagai perbandingan dengan menjalankan cell code ini joblib.dump(model,\"PCA_model_clustering.h5\")\n",
        "# joblib.dump(___, \"PCA_model_clustering.h5\")"
      ],
      "metadata": {
        "id": "uKvJy9Ky4VB3"
      },
      "execution_count": 33,
      "outputs": []
    },
    {
      "cell_type": "markdown",
      "source": [
        "# **5. Interpretasi Cluster**"
      ],
      "metadata": {
        "id": "anlTI9Trb7F6"
      }
    },
    {
      "cell_type": "markdown",
      "source": [
        "## **a. Interpretasi Hasil Clustering**\n",
        "1. **Contoh Interpretasi:**\n",
        "- **Cluster 1: (Nasabah Bertransaksi dan Pendapatan Besar)**:\n",
        "  - **Rata-rata (mean) Annual Income:** 0.953 (48,260)\n",
        "  - **Rata-rata (mean) Spending Score:** 0.8 (56.48)\n",
        "  - **Analisis:** Cluster ini mencakup pelanggan dengan pendapatan tahunan tinggi dan tingkat pengeluaran yang cukup tinggi. Pelanggan dalam cluster ini cenderung memiliki daya beli yang tinggi dan mereka lebih cenderung untuk membelanjakan sebagian besar pendapatan mereka. Sehingga rekomendasi pada kelompok nasabah ini adalah dengan menawarkan produk-produk investasi atau perbankan yang berkualitas tinggi.\n"
      ],
      "metadata": {
        "id": "JfgVMEBDS3KG"
      }
    },
    {
      "cell_type": "code",
      "source": [
        "df['Cluster'] = kmeans.labels_"
      ],
      "metadata": {
        "id": "JE3rqGSSCBcn"
      },
      "execution_count": 34,
      "outputs": []
    },
    {
      "cell_type": "code",
      "source": [
        "cluster_summary = df.groupby('Cluster')[['TransactionAmount', 'CustomerAge', 'TransactionDuration', 'AccountBalance']].mean()\n",
        "print(cluster_summary)"
      ],
      "metadata": {
        "colab": {
          "base_uri": "https://localhost:8080/"
        },
        "id": "aDDyD4A1CERa",
        "outputId": "c81ca726-1f1d-4ec1-dd2d-728ab043a54d"
      },
      "execution_count": 35,
      "outputs": [
        {
          "output_type": "stream",
          "name": "stdout",
          "text": [
            "         TransactionAmount  CustomerAge  TransactionDuration  AccountBalance\n",
            "Cluster                                                                     \n",
            "0               305.424866    25.390805           110.730524     1581.727420\n",
            "1               274.840692    49.158974           226.205128     6166.438667\n",
            "2               299.038651    62.451362            93.945525     4384.757782\n",
            "3               296.823626    44.101180            93.472175    10014.331804\n"
          ]
        }
      ]
    },
    {
      "cell_type": "code",
      "source": [
        "cluster_counts = df['Cluster'].value_counts()\n",
        "print(\"\\nJumlah Anggota Tiap Cluster:\")\n",
        "print(cluster_counts)"
      ],
      "metadata": {
        "colab": {
          "base_uri": "https://localhost:8080/"
        },
        "id": "rxcO91hLCJVb",
        "outputId": "812fdef0-898e-4a97-ed40-b7b32bc059ae"
      },
      "execution_count": 36,
      "outputs": [
        {
          "output_type": "stream",
          "name": "stdout",
          "text": [
            "\n",
            "Jumlah Anggota Tiap Cluster:\n",
            "Cluster\n",
            "0    783\n",
            "2    771\n",
            "3    593\n",
            "1    390\n",
            "Name: count, dtype: int64\n"
          ]
        }
      ]
    },
    {
      "cell_type": "code",
      "source": [
        "plt.figure(figsize=(10, 6))\n",
        "plt.scatter(df['TransactionAmount'], df['AccountBalance'], c=df['Cluster'], cmap='viridis', alpha=0.6)\n",
        "plt.title('Distribusi Cluster Berdasarkan TransactionAmount dan AccountBalance')\n",
        "plt.xlabel('TransactionAmount')\n",
        "plt.ylabel('AccountBalance')\n",
        "plt.colorbar(label='Cluster')\n",
        "plt.show()"
      ],
      "metadata": {
        "colab": {
          "base_uri": "https://localhost:8080/",
          "height": 562
        },
        "id": "s--znJVNCMhs",
        "outputId": "6b8640ab-8c8c-4063-c48a-0b67c31e79b0"
      },
      "execution_count": 37,
      "outputs": [
        {
          "output_type": "display_data",
          "data": {
            "text/plain": [
              "<Figure size 1000x600 with 2 Axes>"
            ],
            "image/png": "[encoded data removed]"
          },
          "metadata": {}
        }
      ]
    },
    {
      "cell_type": "code",
      "source": [
        "numerical_stats = df.describe().transpose()"
      ],
      "metadata": {
        "id": "3TxkpQSrCaCG"
      },
      "execution_count": 38,
      "outputs": []
    },
    {
      "cell_type": "code",
      "source": [
        "numerical_stats['mode'] = df.mode().iloc[0]"
      ],
      "metadata": {
        "id": "DiBYe78uCdX5"
      },
      "execution_count": 39,
      "outputs": []
    },
    {
      "cell_type": "code",
      "source": [
        "print(\"Analisis Deskriptif untuk Fitur Numerik:\")\n",
        "print(numerical_stats[['mean', 'min', 'max', 'mode']])"
      ],
      "metadata": {
        "colab": {
          "base_uri": "https://localhost:8080/"
        },
        "id": "gfA5H4x4Cgn8",
        "outputId": "b1f214be-9545-4b8b-d53f-94b997e81f7e"
      },
      "execution_count": 40,
      "outputs": [
        {
          "output_type": "stream",
          "name": "stdout",
          "text": [
            "Analisis Deskriptif untuk Fitur Numerik:\n",
            "                            mean     min       max     mode\n",
            "TransactionAmount     296.772073    0.26   1919.11   211.36\n",
            "TransactionType         0.777296    0.00      1.00      1.0\n",
            "Location               20.964525    0.00     42.00     13.0\n",
            "Channel                 0.988175    0.00      2.00      1.0\n",
            "CustomerAge            44.680725   18.00     80.00     27.0\n",
            "CustomerOccupation      1.521876    0.00      3.00      3.0\n",
            "TransactionDuration   119.346866   10.00    300.00    112.0\n",
            "LoginAttempts           1.120615    1.00      5.00      1.0\n",
            "AccountBalance       5109.401127  101.25  14977.99  4734.11\n",
            "Cluster                 1.462751    0.00      3.00      0.0\n"
          ]
        }
      ]
    },
    {
      "cell_type": "code",
      "source": [
        "categorical_stats = df['TransactionAmount'].describe()\n",
        "print(\"Analisis Deskriptif untuk Fitur Kategorikal:\")\n",
        "print(categorical_stats)"
      ],
      "metadata": {
        "colab": {
          "base_uri": "https://localhost:8080/"
        },
        "id": "RTibS_RmCiSI",
        "outputId": "3945b0a7-e9a9-4908-eaa5-19dfa867378b"
      },
      "execution_count": 41,
      "outputs": [
        {
          "output_type": "stream",
          "name": "stdout",
          "text": [
            "Analisis Deskriptif untuk Fitur Kategorikal:\n",
            "count    2537.000000\n",
            "mean      296.772073\n",
            "std       290.858415\n",
            "min         0.260000\n",
            "25%        83.070000\n",
            "50%       211.360000\n",
            "75%       409.610000\n",
            "max      1919.110000\n",
            "Name: TransactionAmount, dtype: float64\n"
          ]
        }
      ]
    },
    {
      "cell_type": "code",
      "source": [
        "numerical_features = df.select_dtypes(include=['number'])\n",
        "numerical_stats['median'] = numerical_features.median()"
      ],
      "metadata": {
        "id": "IEWMAWLJDA2y"
      },
      "execution_count": 42,
      "outputs": []
    },
    {
      "cell_type": "code",
      "source": [
        "numerical_stats['variance'] = numerical_features.var()\n",
        "numerical_stats['skewness'] = numerical_features.skew()"
      ],
      "metadata": {
        "id": "tcDKmfExDOaw"
      },
      "execution_count": 43,
      "outputs": []
    },
    {
      "cell_type": "code",
      "source": [
        "print(\"Agregasi Tambahan untuk Fitur Numerik:\")\n",
        "print(numerical_stats[['mean', 'min', 'max', 'mode', 'median', 'variance', 'skewness']])"
      ],
      "metadata": {
        "colab": {
          "base_uri": "https://localhost:8080/"
        },
        "id": "Y25UZzTHDWLc",
        "outputId": "3c13c625-9422-4604-f6a4-68069f7eb172"
      },
      "execution_count": 44,
      "outputs": [
        {
          "output_type": "stream",
          "name": "stdout",
          "text": [
            "Agregasi Tambahan untuk Fitur Numerik:\n",
            "                            mean     min       max     mode   median  \\\n",
            "TransactionAmount     296.772073    0.26   1919.11   211.36   211.36   \n",
            "TransactionType         0.777296    0.00      1.00      1.0     1.00   \n",
            "Location               20.964525    0.00     42.00     13.0    21.00   \n",
            "Channel                 0.988175    0.00      2.00      1.0     1.00   \n",
            "CustomerAge            44.680725   18.00     80.00     27.0    45.00   \n",
            "CustomerOccupation      1.521876    0.00      3.00      3.0     2.00   \n",
            "TransactionDuration   119.346866   10.00    300.00    112.0   112.00   \n",
            "LoginAttempts           1.120615    1.00      5.00      1.0     1.00   \n",
            "AccountBalance       5109.401127  101.25  14977.99  4734.11  4734.11   \n",
            "Cluster                 1.462751    0.00      3.00      0.0     2.00   \n",
            "\n",
            "                         variance  skewness  \n",
            "TransactionAmount    8.459862e+04  1.752656  \n",
            "TransactionType      1.731752e-01 -1.333747  \n",
            "Location             1.487535e+02  0.021601  \n",
            "Channel              6.473365e-01  0.021399  \n",
            "CustomerAge          3.159138e+02  0.152586  \n",
            "CustomerOccupation   1.285109e+00 -0.015992  \n",
            "TransactionDuration  4.861208e+03  0.612961  \n",
            "LoginAttempts        3.505883e-01  5.265639  \n",
            "AccountBalance       1.503396e+07  0.607416  \n",
            "Cluster              1.333884e+00 -0.055200  \n"
          ]
        }
      ]
    },
    {
      "cell_type": "code",
      "source": [
        "# Analisis statistik berdasarkan cluster\n",
        "cluster_stats = df.groupby('Cluster').describe()\n",
        "\n",
        "# Menampilkan statistik agregat berdasarkan cluster\n",
        "print(\"Statistik Agregat Berdasarkan Cluster:\")\n",
        "\n",
        "# Mengakses statistik 'mean', 'min', dan 'max' dari level kedua dari multi-indeks\n",
        "cluster_summary = cluster_stats.stack(level=0)[['mean', 'min', 'max']]\n",
        "\n",
        "# Menampilkan hasil\n",
        "print(cluster_summary)"
      ],
      "metadata": {
        "colab": {
          "base_uri": "https://localhost:8080/"
        },
        "id": "69Ku09a2Df6z",
        "outputId": "533d57f8-13f2-455c-a9ff-10ade46d9391"
      },
      "execution_count": 45,
      "outputs": [
        {
          "output_type": "stream",
          "name": "stdout",
          "text": [
            "Statistik Agregat Berdasarkan Cluster:\n",
            "                                     mean      min       max\n",
            "Cluster                                                     \n",
            "0       AccountBalance        1581.727420   101.25   7047.04\n",
            "        Channel                  0.980843     0.00      2.00\n",
            "        CustomerAge             25.390805    18.00     47.00\n",
            "        CustomerOccupation       2.522350     0.00      3.00\n",
            "        Location                21.172414     0.00     42.00\n",
            "        LoginAttempts            1.127714     1.00      5.00\n",
            "        TransactionAmount      305.424866     0.26   1762.28\n",
            "        TransactionDuration    110.730524    10.00    299.00\n",
            "        TransactionType          0.791826     0.00      1.00\n",
            "1       AccountBalance        6166.438667   135.96  14928.35\n",
            "        Channel                  1.007692     0.00      2.00\n",
            "        CustomerAge             49.158974    18.00     80.00\n",
            "        CustomerOccupation       1.105128     0.00      3.00\n",
            "        Location                20.333333     0.00     42.00\n",
            "        LoginAttempts            1.123077     1.00      5.00\n",
            "        TransactionAmount      274.840692     1.21   1830.00\n",
            "        TransactionDuration    226.205128   138.00    300.00\n",
            "        TransactionType          0.784615     0.00      1.00\n",
            "2       AccountBalance        4384.757782   120.89  10017.11\n",
            "        Channel                  0.963684     0.00      2.00\n",
            "        CustomerAge             62.451362    42.00     80.00\n",
            "        CustomerOccupation       1.500649     0.00      3.00\n",
            "        Location                20.756161     0.00     42.00\n",
            "        LoginAttempts            1.130999     1.00      5.00\n",
            "        TransactionAmount      299.038651     0.84   1647.74\n",
            "        TransactionDuration     93.945525    10.00    213.00\n",
            "        TransactionType          0.769131     0.00      1.00\n",
            "3       AccountBalance       10014.331804  5244.49  14977.99\n",
            "        Channel                  1.016863     0.00      2.00\n",
            "        CustomerAge             44.101180    18.00     70.00\n",
            "        CustomerOccupation       0.502530     0.00      3.00\n",
            "        Location                21.376054     0.00     42.00\n",
            "        LoginAttempts            1.096121     1.00      5.00\n",
            "        TransactionAmount      296.823626     0.32   1919.11\n",
            "        TransactionDuration     93.472175    10.00    204.00\n",
            "        TransactionType          0.763912     0.00      1.00\n"
          ]
        },
        {
          "output_type": "stream",
          "name": "stderr",
          "text": [
            "<ipython-input-45-834a7527badd>:8: FutureWarning: The previous implementation of stack is deprecated and will be removed in a future version of pandas. See the What's New notes for pandas 2.1.0 for details. Specify future_stack=True to adopt the new implementation and silence this warning.\n",
            "  cluster_summary = cluster_stats.stack(level=0)[['mean', 'min', 'max']]\n"
          ]
        }
      ]
    },
    {
      "cell_type": "markdown",
      "source": [
        "###Cluster 0: (Nasabah Bertransaksi dan Pendapatan Menengah)\n",
        "- Rata-rata (mean) AccountBalance: 1581.73\n",
        "\n",
        "- Rata-rata (mean) TransactionAmount: 305.42\n",
        "\n",
        "- Rata-rata (mean) CustomerAge: 25.39\n",
        "\n",
        "- Rata-rata (mean) TransactionDuration: 110.73\n",
        "\n",
        "## Analisis:\n",
        "Cluster ini mencakup nasabah dengan saldo akun yang relatif rendah dan transaksi yang juga lebih kecil dibandingkan cluster lainnya. Umumnya, nasabah dalam cluster ini berusia lebih muda dan cenderung melakukan transaksi dengan durasi yang tidak terlalu lama. Cluster ini bisa mencakup nasabah yang masih dalam tahap awal pengelolaan keuangan, sehingga rekomendasi yang dapat diberikan adalah menawarkan produk perbankan yang terjangkau dan edukasi keuangan dasar.\n",
        "\n",
        "## Cluster 1: (Nasabah Berpendapatan Tinggi dan Pengeluaran Moderat)\n",
        "- Rata-rata (mean) AccountBalance: 6166.44\n",
        "\n",
        "- Rata-rata (mean) TransactionAmount: 274.84\n",
        "\n",
        "- Rata-rata (mean) CustomerAge: 49.16\n",
        "\n",
        "- Rata-rata (mean) TransactionDuration: 226.21\n",
        "\n",
        "## Analisis:\n",
        "Cluster ini mencakup nasabah dengan saldo akun yang tinggi dan pengeluaran transaksi yang lebih moderat. Nasabah dalam cluster ini umumnya lebih tua dan lebih stabil secara finansial. Mereka memiliki kemampuan untuk melakukan transaksi yang lebih besar, namun pengeluaran mereka tidak terlalu tinggi. Rekomendasi untuk cluster ini adalah menawarkan produk investasi yang lebih canggih atau program loyalitas yang dapat memaksimalkan potensi pendapatan mereka.\n",
        "\n",
        "## Cluster 2: (Nasabah Senior dengan Pengeluaran dan Pendapatan Menengah)\n",
        "- Rata-rata (mean) AccountBalance: 4384.76\n",
        "\n",
        "- Rata-rata (mean) TransactionAmount: 299.04\n",
        "\n",
        "- Rata-rata (mean) CustomerAge: 62.45\n",
        "\n",
        "- Rata-rata (mean) TransactionDuration: 93.95\n",
        "\n",
        "## Analisis:\n",
        "Cluster ini mencakup nasabah yang lebih tua, dengan saldo akun dan transaksi yang lebih tinggi dibandingkan cluster pertama. Nasabah di sini memiliki pengalaman lebih banyak dalam bertransaksi, namun lebih berhati-hati dalam pengeluarannya, terbukti dengan transaksi yang lebih singkat. Rekomendasi untuk cluster ini adalah menawarkan produk-produk pensiun atau tabungan yang memberikan keamanan finansial jangka panjang.\n",
        "\n",
        "## Cluster 3: (Nasabah Elite dengan Pendapatan dan Pengeluaran Tinggi)\n",
        "- Rata-rata (mean) AccountBalance: 10014.33\n",
        "\n",
        "- Rata-rata (mean) TransactionAmount: 296.82\n",
        "\n",
        "- Rata-rata (mean) CustomerAge: 44.10\n",
        "\n",
        "- Rata-rata (mean) TransactionDuration: 93.47\n",
        "\n",
        "## Analisis:\n",
        "Cluster ini mencakup nasabah dengan saldo akun yang sangat tinggi dan tingkat transaksi yang cukup besar. Mereka berusia antara 18 hingga 70 tahun dan umumnya memiliki penghasilan yang lebih tinggi. Cluster ini menggambarkan nasabah dengan daya beli yang sangat baik, dan mereka lebih sering bertransaksi. Rekomendasi untuk cluster ini adalah menawarkan produk premium, termasuk investasi jangka panjang, asuransi, atau layanan perbankan eksklusif."
      ],
      "metadata": {
        "id": "KrjMI_dG6tnb"
      }
    },
    {
      "cell_type": "markdown",
      "source": [
        "# **6. Mengeksport Data**\n",
        "\n",
        "1. Simpan nama kolom hasil clustering dengan nama `Target`.\n",
        "2. Simpan hasilnya ke dalam file CSV menggunakan function `to_csv()`."
      ],
      "metadata": {
        "id": "jaYP1fx5VgWO"
      }
    },
    {
      "cell_type": "code",
      "source": [
        "df.rename(columns={'Cluster': 'Target'}, inplace=True)"
      ],
      "metadata": {
        "id": "3FInN10U5S4f"
      },
      "execution_count": 46,
      "outputs": []
    },
    {
      "cell_type": "code",
      "source": [
        "df.to_csv('data_clustering.csv', index=False)\n",
        "from google.colab import files\n",
        "df.to_csv('data_clustering.csv', index=False)\n",
        "files.download('data_clustering.csv')"
      ],
      "metadata": {
        "id": "fkbg_o80aRSH"
      },
      "execution_count": null,
      "outputs": []
    },
    {
      "cell_type": "markdown",
      "source": [
        "(Opsional) Interpretasi Hasil Clustering [Skilled]\n",
        "\n",
        "**Biarkan kosong jika tidak menerapkan kriteria skilled**"
      ],
      "metadata": {
        "id": "rz1vFc2yzFPD"
      }
    },
    {
      "cell_type": "code",
      "source": [
        "# inverse dataset ke rentang normal untuk numerikal\n",
        "# inverse dataset yang sudah diencode ke kategori aslinya."
      ],
      "metadata": {
        "id": "OMcRV15y_hH3"
      },
      "execution_count": 47,
      "outputs": []
    },
    {
      "cell_type": "code",
      "source": [
        "# Menampilkan analisis deskriptif minimal mean, min dan max untuk fitur numerik dan mode untuk kategorikal menggunakan data yang sudah diinverse.\n",
        "# Silakan menambahkan fungsi agregasi lainnya untuk experience lebih baik."
      ],
      "metadata": {
        "id": "BSigRjkNxh-s"
      },
      "execution_count": 48,
      "outputs": []
    },
    {
      "cell_type": "markdown",
      "source": [
        "## Menjelaskan karakteristik tiap cluster berdasarkan rentangnya setelah inverse.\n",
        "1. **Cluster 1: (___)**:\n",
        "  - **Rata-rata (mean) <Fitur>:** <Sebelum inverse> <Setelah inverse>\n",
        "  - **Analisis:** Cluster ini ..."
      ],
      "metadata": {
        "id": "WcaT8sxVzLs6"
      }
    },
    {
      "cell_type": "markdown",
      "source": [
        "(Opsional) Interpretasi Hasil Clustering [Advanced]\n",
        "\n",
        "**Biarkan kosong jika tidak menerapkan kriteria advanced**"
      ],
      "metadata": {
        "id": "jSd6vZslzatv"
      }
    },
    {
      "cell_type": "code",
      "source": [
        "# Mengintegrasikan kembali data yang telah di-inverse dengan hasil cluster."
      ],
      "metadata": {
        "id": "4mGIyUZ2zRCP"
      },
      "execution_count": 49,
      "outputs": []
    },
    {
      "cell_type": "code",
      "source": [
        "# Simpan Data\n",
        "# ___.to_csv('data_clustering_inverse.csv', index=False)"
      ],
      "metadata": {
        "id": "BEASz_Q__jms"
      },
      "execution_count": 50,
      "outputs": []
    }
  ]
}